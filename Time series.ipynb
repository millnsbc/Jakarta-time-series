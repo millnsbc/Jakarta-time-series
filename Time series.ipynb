{
 "cells": [
  {
   "cell_type": "code",
   "execution_count": 1,
   "metadata": {},
   "outputs": [
    {
     "name": "stderr",
     "output_type": "stream",
     "text": [
      "Warning message:\n",
      "\"package 'ggplot2' was built under R version 3.6.3\"Warning message:\n",
      "\"package 'dplyr' was built under R version 3.6.3\"\n",
      "Attaching package: 'dplyr'\n",
      "\n",
      "The following objects are masked from 'package:stats':\n",
      "\n",
      "    filter, lag\n",
      "\n",
      "The following objects are masked from 'package:base':\n",
      "\n",
      "    intersect, setdiff, setequal, union\n",
      "\n",
      "Warning message:\n",
      "\"package 'forecast' was built under R version 3.6.3\"Registered S3 method overwritten by 'quantmod':\n",
      "  method            from\n",
      "  as.zoo.data.frame zoo \n",
      "Warning message:\n",
      "\"package 'MLmetrics' was built under R version 3.6.3\"\n",
      "Attaching package: 'MLmetrics'\n",
      "\n",
      "The following object is masked from 'package:base':\n",
      "\n",
      "    Recall\n",
      "\n"
     ]
    }
   ],
   "source": [
    "#packages \n",
    "library(ggplot2)\n",
    "library(dplyr)\n",
    "library(forecast)\n",
    "library(MLmetrics)"
   ]
  },
  {
   "cell_type": "markdown",
   "metadata": {},
   "source": [
    "# read data"
   ]
  },
  {
   "cell_type": "code",
   "execution_count": 2,
   "metadata": {},
   "outputs": [],
   "source": [
    "df <- read.csv('Jakarta.csv', header=TRUE)"
   ]
  },
  {
   "cell_type": "markdown",
   "metadata": {},
   "source": [
    "# prelim analysis "
   ]
  },
  {
   "cell_type": "code",
   "execution_count": 3,
   "metadata": {},
   "outputs": [
    {
     "data": {
      "text/html": [
       "<table class=\"dataframe\">\n",
       "<caption>A data.frame: 6 × 2</caption>\n",
       "<thead>\n",
       "\t<tr><th></th><th scope=col>Call</th><th scope=col>City.Municipality</th></tr>\n",
       "\t<tr><th></th><th scope=col>&lt;fct&gt;</th><th scope=col>&lt;fct&gt;</th></tr>\n",
       "</thead>\n",
       "<tbody>\n",
       "\t<tr><th scope=row>1</th><td>31/12/2018 22:31:28</td><td>JAKARTA TIMUR</td></tr>\n",
       "\t<tr><th scope=row>2</th><td>31/12/2018 23:46:09</td><td>JAKARTA TIMUR</td></tr>\n",
       "\t<tr><th scope=row>3</th><td>01/01/2019 00:12:30</td><td>JAKARTA TIMUR</td></tr>\n",
       "\t<tr><th scope=row>4</th><td>01/01/2019 01:16:56</td><td>JAKARTA TIMUR</td></tr>\n",
       "\t<tr><th scope=row>5</th><td>01/01/2019 01:21:18</td><td>JAKARTA BARAT</td></tr>\n",
       "\t<tr><th scope=row>6</th><td>01/01/2019 01:32:10</td><td>JAKARTA TIMUR</td></tr>\n",
       "</tbody>\n",
       "</table>\n"
      ],
      "text/latex": [
       "A data.frame: 6 × 2\n",
       "\\begin{tabular}{r|ll}\n",
       "  & Call & City.Municipality\\\\\n",
       "  & <fct> & <fct>\\\\\n",
       "\\hline\n",
       "\t1 & 31/12/2018 22:31:28 & JAKARTA TIMUR\\\\\n",
       "\t2 & 31/12/2018 23:46:09 & JAKARTA TIMUR\\\\\n",
       "\t3 & 01/01/2019 00:12:30 & JAKARTA TIMUR\\\\\n",
       "\t4 & 01/01/2019 01:16:56 & JAKARTA TIMUR\\\\\n",
       "\t5 & 01/01/2019 01:21:18 & JAKARTA BARAT\\\\\n",
       "\t6 & 01/01/2019 01:32:10 & JAKARTA TIMUR\\\\\n",
       "\\end{tabular}\n"
      ],
      "text/markdown": [
       "\n",
       "A data.frame: 6 × 2\n",
       "\n",
       "| <!--/--> | Call &lt;fct&gt; | City.Municipality &lt;fct&gt; |\n",
       "|---|---|---|\n",
       "| 1 | 31/12/2018 22:31:28 | JAKARTA TIMUR |\n",
       "| 2 | 31/12/2018 23:46:09 | JAKARTA TIMUR |\n",
       "| 3 | 01/01/2019 00:12:30 | JAKARTA TIMUR |\n",
       "| 4 | 01/01/2019 01:16:56 | JAKARTA TIMUR |\n",
       "| 5 | 01/01/2019 01:21:18 | JAKARTA BARAT |\n",
       "| 6 | 01/01/2019 01:32:10 | JAKARTA TIMUR |\n",
       "\n"
      ],
      "text/plain": [
       "  Call                City.Municipality\n",
       "1 31/12/2018 22:31:28 JAKARTA TIMUR    \n",
       "2 31/12/2018 23:46:09 JAKARTA TIMUR    \n",
       "3 01/01/2019 00:12:30 JAKARTA TIMUR    \n",
       "4 01/01/2019 01:16:56 JAKARTA TIMUR    \n",
       "5 01/01/2019 01:21:18 JAKARTA BARAT    \n",
       "6 01/01/2019 01:32:10 JAKARTA TIMUR    "
      ]
     },
     "metadata": {},
     "output_type": "display_data"
    },
    {
     "data": {
      "text/html": [
       "<style>\n",
       ".dl-inline {width: auto; margin:0; padding: 0}\n",
       ".dl-inline>dt, .dl-inline>dd {float: none; width: auto; display: inline-block}\n",
       ".dl-inline>dt::after {content: \":\\0020\"; padding-right: .5ex}\n",
       ".dl-inline>dt:not(:first-of-type) {padding-left: .5ex}\n",
       "</style><dl class=dl-inline><dt>Call</dt><dd>'factor'</dd><dt>City.Municipality</dt><dd>'factor'</dd></dl>\n"
      ],
      "text/latex": [
       "\\begin{description*}\n",
       "\\item[Call] 'factor'\n",
       "\\item[City.Municipality] 'factor'\n",
       "\\end{description*}\n"
      ],
      "text/markdown": [
       "Call\n",
       ":   'factor'City.Municipality\n",
       ":   'factor'\n",
       "\n"
      ],
      "text/plain": [
       "             Call City.Municipality \n",
       "         \"factor\"          \"factor\" "
      ]
     },
     "metadata": {},
     "output_type": "display_data"
    },
    {
     "data": {
      "text/html": [
       "22540"
      ],
      "text/latex": [
       "22540"
      ],
      "text/markdown": [
       "22540"
      ],
      "text/plain": [
       "[1] 22540"
      ]
     },
     "metadata": {},
     "output_type": "display_data"
    },
    {
     "data": {
      "text/html": [
       "2"
      ],
      "text/latex": [
       "2"
      ],
      "text/markdown": [
       "2"
      ],
      "text/plain": [
       "[1] 2"
      ]
     },
     "metadata": {},
     "output_type": "display_data"
    },
    {
     "data": {
      "text/plain": [
       "                  Call                   City.Municipality\n",
       " 23/05/2019 11:43:44:    7   JAKARTA PUSAT        :5503   \n",
       " 01/02/2019 00:30:00:    3   JAKARTA BARAT        :5201   \n",
       " 01/02/2019 00:01:19:    2   JAKARTA TIMUR        :4505   \n",
       " 01/02/2019 00:10:00:    2   JAKARTA SELATAN      :3633   \n",
       " 01/02/2019 00:36:57:    2   JAKARTA UTARA        :2974   \n",
       " 01/02/2019 00:45:36:    2   JAKARTA PUSAT (KIARA): 124   \n",
       " (Other)            :22522   (Other)              : 600   "
      ]
     },
     "metadata": {},
     "output_type": "display_data"
    }
   ],
   "source": [
    "head(df)\n",
    "sapply(df, class)\n",
    "nrow(df)\n",
    "ncol(df)\n",
    "summary(df)"
   ]
  },
  {
   "cell_type": "markdown",
   "metadata": {},
   "source": [
    "# Data cleaning"
   ]
  },
  {
   "cell_type": "markdown",
   "metadata": {},
   "source": [
    "### Missing values?"
   ]
  },
  {
   "cell_type": "code",
   "execution_count": 4,
   "metadata": {},
   "outputs": [
    {
     "name": "stdout",
     "output_type": "stream",
     "text": [
      "[1] FALSE\n",
      "[1] 1\n",
      "[1] FALSE\n",
      "[1] 2\n"
     ]
    }
   ],
   "source": [
    "#check for any NA values\n",
    "for (i in 1:ncol(df)) {\n",
    "    print(anyNA(df[,i]))\n",
    "    print(i)\n",
    "    }"
   ]
  },
  {
   "cell_type": "markdown",
   "metadata": {},
   "source": [
    "### convert `call` to date"
   ]
  },
  {
   "cell_type": "code",
   "execution_count": 5,
   "metadata": {},
   "outputs": [
    {
     "name": "stderr",
     "output_type": "stream",
     "text": [
      "Warning message:\n",
      "\"package 'lubridate' was built under R version 3.6.3\"\n",
      "Attaching package: 'lubridate'\n",
      "\n",
      "The following objects are masked from 'package:base':\n",
      "\n",
      "    date, intersect, setdiff, union\n",
      "\n"
     ]
    }
   ],
   "source": [
    "# use lubridate from tidyverse package\n",
    "library(lubridate)\n",
    "\n",
    "df$Call <- dmy_hms(df$Call)"
   ]
  },
  {
   "cell_type": "markdown",
   "metadata": {},
   "source": [
    "### Duplicate rows"
   ]
  },
  {
   "cell_type": "code",
   "execution_count": 6,
   "metadata": {},
   "outputs": [
    {
     "data": {
      "text/html": [
       "50"
      ],
      "text/latex": [
       "50"
      ],
      "text/markdown": [
       "50"
      ],
      "text/plain": [
       "[1] 50"
      ]
     },
     "metadata": {},
     "output_type": "display_data"
    }
   ],
   "source": [
    "nrow(df[duplicated(df),])"
   ]
  },
  {
   "cell_type": "markdown",
   "metadata": {},
   "source": [
    "### Spelling inconsistencies in `City.Municipality`\n",
    "\n",
    "https://www.linkedin.com/learning/cleaning-bad-data-in-r/inconsistent-spellings?u=35392996"
   ]
  },
  {
   "cell_type": "code",
   "execution_count": 7,
   "metadata": {},
   "outputs": [
    {
     "data": {
      "text/plain": [
       "\n",
       "                            BANDUNG                              BEKASI \n",
       "                                  4                                  47 \n",
       "                       BEKASI BARAT                               BOGOR \n",
       "                                  1                                   9 \n",
       "                             BREBES                            DENPASAR \n",
       "                                  1                                   1 \n",
       "                              DEPOK                             DEPOK   \n",
       "                                 38                                   2 \n",
       "                     JAAKARTA UTARA                       JAAKRTA BARAT \n",
       "                                  1                                   1 \n",
       "                      JAJARTA BARAT                        JAKARA PUSAT \n",
       "                                  1                                   1 \n",
       "                      JAKARAT PUSAT                     JAKARAT SELATAN \n",
       "                                  2                                   5 \n",
       "                      JAKARAT TIMUR                       JAKARAT UTARA \n",
       "                                  4                                  12 \n",
       "                   JAKARATA SELATAN                      JAKARATA TIMUR \n",
       "                                  8                                   1 \n",
       "                       JAKART BARAT                            JAKARTA  \n",
       "                                  1                                   4 \n",
       "                     JAKARTA  PUSAT                    JAKARTA  SELATAN \n",
       "                                  7                                   2 \n",
       "                      JAKARTA BARAT                      JAKARTA BARAT' \n",
       "                               5201                                   1 \n",
       "                     JAKARTA BARAT              JAKARTA BARAT (JANTUNG) \n",
       "                                  6                                   2 \n",
       "               JAKARTA BARAT (RSAB)                      JAKARTA BARATI \n",
       "                                  6                                   1 \n",
       "                      JAKARTA KANN                        JAKARTA KEC A \n",
       "                                  8                                   3 \n",
       "                      JAKARTA KELUR                         JAKARTA PUS \n",
       "                                  1                                   1 \n",
       "                       JAKARTA PUSA                       JAKARTA PUSAT \n",
       "                                  2                                5503 \n",
       "                     JAKARTA PUSAT'                      JAKARTA PUSAT  \n",
       "                                  2                                   7 \n",
       "                    JAKARTA PUSAT                 JAKARTA PUSAT (KIARA) \n",
       "                                 32                                 124 \n",
       "                      JAKARTA RSUBA                           JAKARTA S \n",
       "                                  1                                   1 \n",
       "                    JAKARTA SELATAN                           JAKARTA T \n",
       "                               3633                                   2 \n",
       "                         JAKARTA T]                       JAKARTA TIMUR \n",
       "                                  2                                4505 \n",
       "                       JAKARTA TMUR                        JAKARTA UTAR \n",
       "                                 37                                   2 \n",
       "                      JAKARTA UTARA               JAKARTA UTARA (RSGM), \n",
       "                               2974                                   1 \n",
       "               JAKARTA UTARA WIJAYA                      JAKARTSA TIMUR \n",
       "                                  1                                   2 \n",
       "                       JAKATA TIMUR                        JAKRTA PUSAT \n",
       "                                  1                                   1 \n",
       "                       JKARTA PUSAT                     JL SERUNI N0 25 \n",
       "                                  1                                   1 \n",
       "       JL SUBUR DALAM NO 18 RT 2/8.                  JL WIJAYA 16 N0 2A \n",
       "                                  1                                   3 \n",
       "                     JLN BERINGIN 1                      KAB. TANGERANG \n",
       "                                  2                                   1 \n",
       "                   KALIMANTAN BARAT                            KEDIAMAN \n",
       "                                  2                                  59 \n",
       "                         KEP SERIBU                    KEPULAUAN SERIBU \n",
       "                                  2                                  20 \n",
       "                  KEPULAUAN SERIBU                          KOTA BEKASI \n",
       "                                  9                                  15 \n",
       "                         KOTA BOGOR                          KOTA DEPOK \n",
       "                                  1                                   2 \n",
       "         KOTA TANGASTOENTERITISRANG  KOTA TANGASTOENTERITISRANG SELATAN \n",
       "                                  1                                   1 \n",
       "                     KOTA TANGERANG              KOTA TANGERANG SELATAN \n",
       "                                  6                                   3 \n",
       "                        KRAMAT JATI                            KUNINGAN \n",
       "                                  1                                   1 \n",
       "                              LAHAT                         PANTI JOMPO \n",
       "                                  1                                   2 \n",
       "                       PANTI SOSIAL                       PEJATEN BARAT \n",
       "                                  4                                   2 \n",
       "                           PEMALANG                           PUSKESMAS \n",
       "                                  3                                  30 \n",
       "                        RS AL-KAMAL                          RS JAKARTA \n",
       "                                  1                                   2 \n",
       "RS MAYAPADA LEBAK BULUS LEBAK BULUS                       RS PETUKANGAN \n",
       "                                  2                                   2 \n",
       "                      RS PURI INDAH                        RS PUSDIKKES \n",
       "                                  1                                   3 \n",
       "                           RS TEBET                        RSUD MAMPANG \n",
       "                                  1                                   1 \n",
       "                     RSUD TUGU KOJA                     RSUK TAMAN SARI \n",
       "                                  1                                   1 \n",
       "                             SRAGEN               TANGASTOENTERITISRANG \n",
       "                                  1                                   6 \n",
       "      TANGASTOENTERITISRANG SELATAN                           TANGERANG \n",
       "                                  9                                  55 \n",
       "                         TANGERANG                    TANGERANG SELATAN \n",
       "                                  6                                  53 \n",
       "                                TKP                       TULANG BAWANG \n",
       "                                  3                                   2 "
      ]
     },
     "metadata": {},
     "output_type": "display_data"
    }
   ],
   "source": [
    "table(df$City.Municipality)"
   ]
  },
  {
   "cell_type": "code",
   "execution_count": 8,
   "metadata": {},
   "outputs": [],
   "source": [
    "#BEKASI \n",
    "bekasi <- df %>%\n",
    "    filter(grepl('BEKASI', City.Municipality)) %>%\n",
    "    select(City.Municipality) %>%\n",
    "    unique() %>%\n",
    "    pull(City.Municipality)\n",
    "\n",
    "for (i in df$City.Municipality){\n",
    "    if (i %in% bekasi) {\n",
    "        df$City.Municipality[df$City.Municipality== i] <- 'BEKASI'\n",
    "    }\n",
    "}"
   ]
  },
  {
   "cell_type": "code",
   "execution_count": 9,
   "metadata": {},
   "outputs": [],
   "source": [
    "#BOGOR\n",
    "bogor <- df %>%\n",
    "    filter(grepl('BOGOR', City.Municipality)) %>%\n",
    "    select(City.Municipality) %>%\n",
    "    unique() %>%\n",
    "    pull(City.Municipality)\n",
    "\n",
    "for (i in df$City.Municipality){\n",
    "    if (i %in% bogor) {\n",
    "        df$City.Municipality[df$City.Municipality== i] <- 'BOGOR'\n",
    "    }\n",
    "}"
   ]
  },
  {
   "cell_type": "code",
   "execution_count": 10,
   "metadata": {},
   "outputs": [],
   "source": [
    "# DEPOK\n",
    "depok <- df %>%\n",
    "    filter(grepl('DEPOK', City.Municipality)) %>%\n",
    "    select(City.Municipality) %>%\n",
    "    unique() %>%\n",
    "    pull(City.Municipality)\n",
    "\n",
    "for (i in df$City.Municipality){\n",
    "    if (i %in% depok) {\n",
    "        df$City.Municipality[df$City.Municipality== i] <- 'DEPOK'\n",
    "    }\n",
    "}"
   ]
  },
  {
   "cell_type": "code",
   "execution_count": 11,
   "metadata": {},
   "outputs": [],
   "source": [
    "# jakarta utara\n",
    "jak_utara <- df %>%\n",
    "    filter(grepl('UTAR', City.Municipality)) %>%\n",
    "    select(City.Municipality) %>%\n",
    "    unique() %>%\n",
    "    pull(City.Municipality)\n",
    "\n",
    "for (i in df$City.Municipality){\n",
    "    if (i %in% jak_utara) {\n",
    "        df$City.Municipality[df$City.Municipality== i] <- 'JAKARTA UTARA'\n",
    "    }\n",
    "}"
   ]
  },
  {
   "cell_type": "code",
   "execution_count": 12,
   "metadata": {},
   "outputs": [],
   "source": [
    "#JAKARTA BARAT\n",
    "jak_barat <- df %>%\n",
    "    filter(grepl('BAR', City.Municipality)) %>%\n",
    "    filter(City.Municipality!='KALIMANTAN BARAT') %>%\n",
    "    filter(City.Municipality!='PEJATEN BARAT') %>%\n",
    "    select(City.Municipality) %>%\n",
    "    unique() %>%\n",
    "    pull(City.Municipality)\n",
    "\n",
    "for (i in df$City.Municipality){\n",
    "    if (i %in% jak_barat) {\n",
    "        df$City.Municipality[df$City.Municipality== i] <- 'JAKARTA BARAT'\n",
    "    }\n",
    "}"
   ]
  },
  {
   "cell_type": "code",
   "execution_count": 13,
   "metadata": {},
   "outputs": [],
   "source": [
    "#JAKARTA PUSAT\n",
    "jak_pusat <- df %>%\n",
    "    filter(grepl('PUS', City.Municipality)) %>%\n",
    "    filter(City.Municipality!='PUSKESMAS') %>%\n",
    "    filter(City.Municipality!='RS PUSDIKKES') %>%\n",
    "    select(City.Municipality) %>%\n",
    "    unique() %>%\n",
    "    pull(City.Municipality)\n",
    "\n",
    "for (i in df$City.Municipality){\n",
    "    if (i %in% jak_pusat) {\n",
    "        df$City.Municipality[df$City.Municipality== i] <- 'JAKARTA PUSAT'\n",
    "    }\n",
    "}"
   ]
  },
  {
   "cell_type": "code",
   "execution_count": 14,
   "metadata": {},
   "outputs": [],
   "source": [
    "#JAKARTA SELATAN\n",
    "jak_selatan <- df %>%\n",
    "    filter(grepl(paste(c('SEL','A S'), collapse=\"|\"), City.Municipality)) %>%\n",
    "    filter(City.Municipality!='TANGASTOENTERITISRANG SELATAN') %>%\n",
    "    filter(City.Municipality!='KOTA TANGASTOENTERITISRANG SELATAN') %>%\n",
    "    filter(City.Municipality!='TANGERANG SELATAN') %>%\n",
    "    filter(City.Municipality!='KOTA TANGERANG SELATAN') %>%\n",
    "    select(City.Municipality) %>%\n",
    "    unique() %>%\n",
    "    pull(City.Municipality)\n",
    "\n",
    "for (i in df$City.Municipality){\n",
    "    if (i %in% jak_selatan) {\n",
    "        df$City.Municipality[df$City.Municipality== i] <- 'JAKARTA SELATAN'\n",
    "    }\n",
    "}"
   ]
  },
  {
   "cell_type": "code",
   "execution_count": 15,
   "metadata": {},
   "outputs": [],
   "source": [
    "#JAKARTA TIMUR\n",
    "jak_timur <- df %>%\n",
    "    filter(grepl(paste(c('TIM','A T'), collapse=\"|\"), City.Municipality)) %>%\n",
    "    filter(City.Municipality!='KOTA TANGASTOENTERITISRANG SELATAN') %>%\n",
    "    filter(City.Municipality!='KOTA TANGASTOENTERITISRANG') %>%\n",
    "    filter(City.Municipality!='KOTA TANGERANG') %>%\n",
    "    filter(City.Municipality!='KOTA TANGERANG SELATAN') %>%\n",
    "    select(City.Municipality) %>%\n",
    "    unique() %>%\n",
    "    pull(City.Municipality)\n",
    "\n",
    "for (i in df$City.Municipality){\n",
    "    if (i %in% jak_timur) {\n",
    "        df$City.Municipality[df$City.Municipality== i] <- 'JAKARTA TIMUR'\n",
    "    }\n",
    "}"
   ]
  },
  {
   "cell_type": "code",
   "execution_count": 16,
   "metadata": {},
   "outputs": [],
   "source": [
    "# TANGERANG SELATAN\n",
    "tan_selatan <- df %>%\n",
    "    filter(grepl('SEL', City.Municipality)) %>%\n",
    "    filter(City.Municipality!='JAKARTA SELATAN') %>%\n",
    "    select(City.Municipality) %>%\n",
    "    unique() %>%\n",
    "    pull(City.Municipality)\n",
    "\n",
    "for (i in df$City.Municipality){\n",
    "    if (i %in% tan_selatan) {\n",
    "        df$City.Municipality[df$City.Municipality== i] <- 'TANGERANG SELATAN'\n",
    "    }\n",
    "}"
   ]
  },
  {
   "cell_type": "code",
   "execution_count": 17,
   "metadata": {},
   "outputs": [],
   "source": [
    "# KEPULAUAN SERIBU\n",
    "kep_seribu <- df %>%\n",
    "    filter(grepl('KEP', City.Municipality)) %>%\n",
    "    select(City.Municipality) %>%\n",
    "    unique() %>%\n",
    "    pull(City.Municipality)\n",
    "\n",
    "for (i in df$City.Municipality){\n",
    "    if (i %in% kep_seribu) {\n",
    "        df$City.Municipality[df$City.Municipality== i] <- 'KEPULAUAN SERIBU'\n",
    "    }\n",
    "}"
   ]
  },
  {
   "cell_type": "code",
   "execution_count": 18,
   "metadata": {},
   "outputs": [],
   "source": [
    "# TANGERANG\n",
    "tangerang <- df %>%\n",
    "    filter(grepl('TANG', City.Municipality)) %>%\n",
    "    filter(City.Municipality!='TANGERANG SELATAN') %>%\n",
    "    select(City.Municipality) %>%\n",
    "    unique() %>%\n",
    "    pull(City.Municipality)\n",
    "\n",
    "for (i in df$City.Municipality){\n",
    "    if (i %in% tangerang) {\n",
    "        df$City.Municipality[df$City.Municipality== i] <- 'TANGERANG'\n",
    "    }\n",
    "}"
   ]
  },
  {
   "cell_type": "code",
   "execution_count": 19,
   "metadata": {},
   "outputs": [
    {
     "data": {
      "text/plain": [
       "\n",
       "                            BANDUNG                              BEKASI \n",
       "                                  4                                  63 \n",
       "                       BEKASI BARAT                               BOGOR \n",
       "                                  0                                  10 \n",
       "                             BREBES                            DENPASAR \n",
       "                                  1                                   1 \n",
       "                              DEPOK                             DEPOK   \n",
       "                                 42                                   0 \n",
       "                     JAAKARTA UTARA                       JAAKRTA BARAT \n",
       "                                  0                                   0 \n",
       "                      JAJARTA BARAT                        JAKARA PUSAT \n",
       "                                  0                                   0 \n",
       "                      JAKARAT PUSAT                     JAKARAT SELATAN \n",
       "                                  0                                   0 \n",
       "                      JAKARAT TIMUR                       JAKARAT UTARA \n",
       "                                  0                                   0 \n",
       "                   JAKARATA SELATAN                      JAKARATA TIMUR \n",
       "                                  0                                   0 \n",
       "                       JAKART BARAT                            JAKARTA  \n",
       "                                  0                                   4 \n",
       "                     JAKARTA  PUSAT                    JAKARTA  SELATAN \n",
       "                                  0                                   0 \n",
       "                      JAKARTA BARAT                      JAKARTA BARAT' \n",
       "                               5220                                   0 \n",
       "                     JAKARTA BARAT              JAKARTA BARAT (JANTUNG) \n",
       "                                  0                                   0 \n",
       "               JAKARTA BARAT (RSAB)                      JAKARTA BARATI \n",
       "                                  0                                   0 \n",
       "                      JAKARTA KANN                        JAKARTA KEC A \n",
       "                                  8                                   3 \n",
       "                      JAKARTA KELUR                         JAKARTA PUS \n",
       "                                  1                                   0 \n",
       "                       JAKARTA PUSA                       JAKARTA PUSAT \n",
       "                                  0                                5683 \n",
       "                     JAKARTA PUSAT'                      JAKARTA PUSAT  \n",
       "                                  0                                   0 \n",
       "                    JAKARTA PUSAT                 JAKARTA PUSAT (KIARA) \n",
       "                                  0                                   0 \n",
       "                      JAKARTA RSUBA                           JAKARTA S \n",
       "                                  1                                   0 \n",
       "                    JAKARTA SELATAN                           JAKARTA T \n",
       "                               3649                                   0 \n",
       "                         JAKARTA T]                       JAKARTA TIMUR \n",
       "                                  0                                4554 \n",
       "                       JAKARTA TMUR                        JAKARTA UTAR \n",
       "                                  0                                   0 \n",
       "                      JAKARTA UTARA               JAKARTA UTARA (RSGM), \n",
       "                               2991                                   0 \n",
       "               JAKARTA UTARA WIJAYA                      JAKARTSA TIMUR \n",
       "                                  0                                   0 \n",
       "                       JAKATA TIMUR                        JAKRTA PUSAT \n",
       "                                  0                                   0 \n",
       "                       JKARTA PUSAT                     JL SERUNI N0 25 \n",
       "                                  0                                   1 \n",
       "       JL SUBUR DALAM NO 18 RT 2/8.                  JL WIJAYA 16 N0 2A \n",
       "                                  1                                   3 \n",
       "                     JLN BERINGIN 1                      KAB. TANGERANG \n",
       "                                  2                                   0 \n",
       "                   KALIMANTAN BARAT                            KEDIAMAN \n",
       "                                  2                                  59 \n",
       "                         KEP SERIBU                    KEPULAUAN SERIBU \n",
       "                                  0                                  31 \n",
       "                  KEPULAUAN SERIBU                          KOTA BEKASI \n",
       "                                  0                                   0 \n",
       "                         KOTA BOGOR                          KOTA DEPOK \n",
       "                                  0                                   0 \n",
       "         KOTA TANGASTOENTERITISRANG  KOTA TANGASTOENTERITISRANG SELATAN \n",
       "                                  0                                   0 \n",
       "                     KOTA TANGERANG              KOTA TANGERANG SELATAN \n",
       "                                  0                                   0 \n",
       "                        KRAMAT JATI                            KUNINGAN \n",
       "                                  1                                   1 \n",
       "                              LAHAT                         PANTI JOMPO \n",
       "                                  1                                   2 \n",
       "                       PANTI SOSIAL                       PEJATEN BARAT \n",
       "                                  4                                   2 \n",
       "                           PEMALANG                           PUSKESMAS \n",
       "                                  3                                  30 \n",
       "                        RS AL-KAMAL                          RS JAKARTA \n",
       "                                  1                                   2 \n",
       "RS MAYAPADA LEBAK BULUS LEBAK BULUS                       RS PETUKANGAN \n",
       "                                  2                                   2 \n",
       "                      RS PURI INDAH                        RS PUSDIKKES \n",
       "                                  1                                   3 \n",
       "                           RS TEBET                        RSUD MAMPANG \n",
       "                                  1                                   1 \n",
       "                     RSUD TUGU KOJA                     RSUK TAMAN SARI \n",
       "                                  1                                   1 \n",
       "                             SRAGEN               TANGASTOENTERITISRANG \n",
       "                                  1                                   0 \n",
       "      TANGASTOENTERITISRANG SELATAN                           TANGERANG \n",
       "                                  0                                  75 \n",
       "                         TANGERANG                    TANGERANG SELATAN \n",
       "                                  0                                  66 \n",
       "                                TKP                       TULANG BAWANG \n",
       "                                  3                                   2 "
      ]
     },
     "metadata": {},
     "output_type": "display_data"
    }
   ],
   "source": [
    "table(df$City.Municipality)"
   ]
  },
  {
   "cell_type": "markdown",
   "metadata": {},
   "source": [
    "### Summary"
   ]
  },
  {
   "cell_type": "code",
   "execution_count": 20,
   "metadata": {},
   "outputs": [
    {
     "data": {
      "text/html": [
       "<table class=\"dataframe\">\n",
       "<caption>A data.frame: 6 × 2</caption>\n",
       "<thead>\n",
       "\t<tr><th></th><th scope=col>Call</th><th scope=col>City.Municipality</th></tr>\n",
       "\t<tr><th></th><th scope=col>&lt;dttm&gt;</th><th scope=col>&lt;fct&gt;</th></tr>\n",
       "</thead>\n",
       "<tbody>\n",
       "\t<tr><th scope=row>1</th><td>2018-12-31 22:31:28</td><td>JAKARTA TIMUR</td></tr>\n",
       "\t<tr><th scope=row>2</th><td>2018-12-31 23:46:09</td><td>JAKARTA TIMUR</td></tr>\n",
       "\t<tr><th scope=row>3</th><td>2019-01-01 00:12:30</td><td>JAKARTA TIMUR</td></tr>\n",
       "\t<tr><th scope=row>4</th><td>2019-01-01 01:16:56</td><td>JAKARTA TIMUR</td></tr>\n",
       "\t<tr><th scope=row>5</th><td>2019-01-01 01:21:18</td><td>JAKARTA BARAT</td></tr>\n",
       "\t<tr><th scope=row>6</th><td>2019-01-01 01:32:10</td><td>JAKARTA TIMUR</td></tr>\n",
       "</tbody>\n",
       "</table>\n"
      ],
      "text/latex": [
       "A data.frame: 6 × 2\n",
       "\\begin{tabular}{r|ll}\n",
       "  & Call & City.Municipality\\\\\n",
       "  & <dttm> & <fct>\\\\\n",
       "\\hline\n",
       "\t1 & 2018-12-31 22:31:28 & JAKARTA TIMUR\\\\\n",
       "\t2 & 2018-12-31 23:46:09 & JAKARTA TIMUR\\\\\n",
       "\t3 & 2019-01-01 00:12:30 & JAKARTA TIMUR\\\\\n",
       "\t4 & 2019-01-01 01:16:56 & JAKARTA TIMUR\\\\\n",
       "\t5 & 2019-01-01 01:21:18 & JAKARTA BARAT\\\\\n",
       "\t6 & 2019-01-01 01:32:10 & JAKARTA TIMUR\\\\\n",
       "\\end{tabular}\n"
      ],
      "text/markdown": [
       "\n",
       "A data.frame: 6 × 2\n",
       "\n",
       "| <!--/--> | Call &lt;dttm&gt; | City.Municipality &lt;fct&gt; |\n",
       "|---|---|---|\n",
       "| 1 | 2018-12-31 22:31:28 | JAKARTA TIMUR |\n",
       "| 2 | 2018-12-31 23:46:09 | JAKARTA TIMUR |\n",
       "| 3 | 2019-01-01 00:12:30 | JAKARTA TIMUR |\n",
       "| 4 | 2019-01-01 01:16:56 | JAKARTA TIMUR |\n",
       "| 5 | 2019-01-01 01:21:18 | JAKARTA BARAT |\n",
       "| 6 | 2019-01-01 01:32:10 | JAKARTA TIMUR |\n",
       "\n"
      ],
      "text/plain": [
       "  Call                City.Municipality\n",
       "1 2018-12-31 22:31:28 JAKARTA TIMUR    \n",
       "2 2018-12-31 23:46:09 JAKARTA TIMUR    \n",
       "3 2019-01-01 00:12:30 JAKARTA TIMUR    \n",
       "4 2019-01-01 01:16:56 JAKARTA TIMUR    \n",
       "5 2019-01-01 01:21:18 JAKARTA BARAT    \n",
       "6 2019-01-01 01:32:10 JAKARTA TIMUR    "
      ]
     },
     "metadata": {},
     "output_type": "display_data"
    },
    {
     "data": {
      "text/html": [
       "<dl>\n",
       "\t<dt>$Call</dt>\n",
       "\t\t<dd><style>\n",
       ".list-inline {list-style: none; margin:0; padding: 0}\n",
       ".list-inline>li {display: inline-block}\n",
       ".list-inline>li:not(:last-child)::after {content: \"\\00b7\"; padding: 0 .5ex}\n",
       "</style>\n",
       "<ol class=list-inline><li>'POSIXct'</li><li>'POSIXt'</li></ol>\n",
       "</dd>\n",
       "\t<dt>$City.Municipality</dt>\n",
       "\t\t<dd>'factor'</dd>\n",
       "</dl>\n"
      ],
      "text/latex": [
       "\\begin{description}\n",
       "\\item[\\$Call] \\begin{enumerate*}\n",
       "\\item 'POSIXct'\n",
       "\\item 'POSIXt'\n",
       "\\end{enumerate*}\n",
       "\n",
       "\\item[\\$City.Municipality] 'factor'\n",
       "\\end{description}\n"
      ],
      "text/markdown": [
       "$Call\n",
       ":   1. 'POSIXct'\n",
       "2. 'POSIXt'\n",
       "\n",
       "\n",
       "\n",
       "$City.Municipality\n",
       ":   'factor'\n",
       "\n",
       "\n"
      ],
      "text/plain": [
       "$Call\n",
       "[1] \"POSIXct\" \"POSIXt\" \n",
       "\n",
       "$City.Municipality\n",
       "[1] \"factor\"\n"
      ]
     },
     "metadata": {},
     "output_type": "display_data"
    },
    {
     "data": {
      "text/html": [
       "22540"
      ],
      "text/latex": [
       "22540"
      ],
      "text/markdown": [
       "22540"
      ],
      "text/plain": [
       "[1] 22540"
      ]
     },
     "metadata": {},
     "output_type": "display_data"
    },
    {
     "data": {
      "text/html": [
       "2"
      ],
      "text/latex": [
       "2"
      ],
      "text/markdown": [
       "2"
      ],
      "text/plain": [
       "[1] 2"
      ]
     },
     "metadata": {},
     "output_type": "display_data"
    },
    {
     "data": {
      "text/plain": [
       "      Call                           City.Municipality\n",
       " Min.   :2018-12-31 22:31:28   JAKARTA PUSAT  :5683   \n",
       " 1st Qu.:2019-02-07 23:32:10   JAKARTA BARAT  :5220   \n",
       " Median :2019-03-17 13:20:48   JAKARTA TIMUR  :4554   \n",
       " Mean   :2019-03-17 13:44:11   JAKARTA SELATAN:3649   \n",
       " 3rd Qu.:2019-04-24 13:23:53   JAKARTA UTARA  :2991   \n",
       " Max.   :2019-05-31 23:46:16   TANGERANG      :  75   \n",
       "                               (Other)        : 368   "
      ]
     },
     "metadata": {},
     "output_type": "display_data"
    }
   ],
   "source": [
    "head(df)\n",
    "sapply(df, class)\n",
    "nrow(df)\n",
    "ncol(df)\n",
    "summary(df)"
   ]
  },
  {
   "cell_type": "code",
   "execution_count": 21,
   "metadata": {},
   "outputs": [
    {
     "data": {
      "text/html": [
       "149.258278145695"
      ],
      "text/latex": [
       "149.258278145695"
      ],
      "text/markdown": [
       "149.258278145695"
      ],
      "text/plain": [
       "[1] 149.2583"
      ]
     },
     "metadata": {},
     "output_type": "display_data"
    }
   ],
   "source": [
    "#mean number of calls\n",
    "mean(data.frame(table(date(df$Call)))[2:152,2])"
   ]
  },
  {
   "cell_type": "markdown",
   "metadata": {},
   "source": [
    "# Visual EDA"
   ]
  },
  {
   "cell_type": "code",
   "execution_count": 22,
   "metadata": {
    "scrolled": false
   },
   "outputs": [
    {
     "data": {
      "image/png": "[encoded data removed]",
      "text/plain": [
       "plot without title"
      ]
     },
     "metadata": {},
     "output_type": "display_data"
    }
   ],
   "source": [
    "places <- data.frame(table(df$City.Municipality))\n",
    "places <- places[places$Freq >100,]\n",
    "# plot as horizontal bar plot instead\n",
    "p<-ggplot(data=places, aes(x=Var1, y=Freq)) +\n",
    "  geom_bar(stat=\"identity\") +\n",
    "    ggtitle('City Municipality')\n",
    "p + coord_flip()"
   ]
  },
  {
   "cell_type": "code",
   "execution_count": 23,
   "metadata": {},
   "outputs": [
    {
     "data": {
      "image/png": "[encoded data removed]",
      "text/plain": [
       "plot without title"
      ]
     },
     "metadata": {},
     "output_type": "display_data"
    }
   ],
   "source": [
    "ggplot(data.frame(table(date(df$Call)))[2:152,], aes(Var1,Freq)) +\n",
    "           geom_point(na.rm=TRUE)+ \n",
    "           ggtitle(\"Ambulance calls per day\") +\n",
    "           xlab(\"Date\") + ylab(\"Calls per day\") + \n",
    "           geom_hline(yintercept = mean(data.frame(table(date(df$Call)))[2:152,2]), color=\"red\")\n"
   ]
  },
  {
   "cell_type": "code",
   "execution_count": 24,
   "metadata": {},
   "outputs": [
    {
     "data": {
      "image/png": "[encoded data removed]",
      "text/plain": [
       "plot without title"
      ]
     },
     "metadata": {},
     "output_type": "display_data"
    }
   ],
   "source": [
    "# plot histogram of calls per day\n",
    "calls_per_day <- data.frame(table(weekdays(df$Call)))\n",
    "p<-ggplot(data=calls_per_day, aes(x=Var1, y=Freq)) +\n",
    "  geom_bar(stat=\"identity\") +\n",
    "    ggtitle('Call per day of the week') + xlab(\"\") + ylab(\"Number of calls\") \n",
    "p"
   ]
  },
  {
   "cell_type": "code",
   "execution_count": 25,
   "metadata": {},
   "outputs": [
    {
     "data": {
      "image/png": "[encoded data removed]",
      "text/plain": [
       "plot without title"
      ]
     },
     "metadata": {},
     "output_type": "display_data"
    }
   ],
   "source": [
    "calls_per_hour <- data.frame(table(hour(df$Call)))\n",
    "p<-ggplot(data=calls_per_hour, aes(x=Var1, y=Freq)) +\n",
    "  geom_bar(stat=\"identity\") +\n",
    "    ggtitle('Calls per hour of the day') + xlab(\"Time\") + ylab(\"Number of calls\") \n",
    "p + coord_flip()"
   ]
  },
  {
   "cell_type": "markdown",
   "metadata": {},
   "source": [
    "# Time series "
   ]
  },
  {
   "cell_type": "code",
   "execution_count": 26,
   "metadata": {},
   "outputs": [
    {
     "name": "stderr",
     "output_type": "stream",
     "text": [
      "Warning message:\n",
      "\"package 'xts' was built under R version 3.6.3\"Loading required package: zoo\n",
      "\n",
      "Attaching package: 'zoo'\n",
      "\n",
      "The following objects are masked from 'package:base':\n",
      "\n",
      "    as.Date, as.Date.numeric\n",
      "\n",
      "\n",
      "Attaching package: 'xts'\n",
      "\n",
      "The following objects are masked from 'package:dplyr':\n",
      "\n",
      "    first, last\n",
      "\n"
     ]
    }
   ],
   "source": [
    "library(xts)\n",
    "\n",
    "dates <- as.Date(\"2019-01-01\")+(0:(length(data.frame(table(date(df$Call)))[2:152,2])-1))\n",
    "\n",
    "time_series <- xts(data.frame(table(date(df$Call)))[2:152,2],dates,frequency=7)"
   ]
  },
  {
   "cell_type": "code",
   "execution_count": 27,
   "metadata": {},
   "outputs": [
    {
     "data": {
      "image/png": "[encoded data removed]",
      "text/plain": [
       "plot without title"
      ]
     },
     "metadata": {},
     "output_type": "display_data"
    }
   ],
   "source": [
    "plot(time_series)"
   ]
  },
  {
   "cell_type": "markdown",
   "metadata": {},
   "source": [
    "# Data split"
   ]
  },
  {
   "cell_type": "code",
   "execution_count": 28,
   "metadata": {},
   "outputs": [],
   "source": [
    "train <- head(time_series, round(length(time_series) * 0.7))\n",
    "h <- length(time_series) - length(train)\n",
    "test <- tail(time_series, h)"
   ]
  },
  {
   "cell_type": "markdown",
   "metadata": {},
   "source": [
    "# Dickey-fuller test"
   ]
  },
  {
   "cell_type": "code",
   "execution_count": 29,
   "metadata": {},
   "outputs": [
    {
     "name": "stderr",
     "output_type": "stream",
     "text": [
      "Warning message:\n",
      "\"package 'tseries' was built under R version 3.6.3\"Warning message in adf.test(train):\n",
      "\"p-value smaller than printed p-value\""
     ]
    },
    {
     "data": {
      "text/plain": [
       "\n",
       "\tAugmented Dickey-Fuller Test\n",
       "\n",
       "data:  train\n",
       "Dickey-Fuller = -8.0973, Lag order = 4, p-value = 0.01\n",
       "alternative hypothesis: stationary\n"
      ]
     },
     "metadata": {},
     "output_type": "display_data"
    }
   ],
   "source": [
    "library(tseries)\n",
    "\n",
    "adf.test(train)"
   ]
  },
  {
   "cell_type": "markdown",
   "metadata": {},
   "source": [
    "P-value of 0.01 is less than the significance level of alpha = 0.05. We reject the null hypothesis and conclude: the Dickey-Fuller test suggests the time series is stationary."
   ]
  },
  {
   "cell_type": "markdown",
   "metadata": {},
   "source": [
    "# ACF and PACF\n",
    "\n",
    "### ACF"
   ]
  },
  {
   "cell_type": "code",
   "execution_count": 30,
   "metadata": {},
   "outputs": [
    {
     "data": {
      "text/plain": [
       "\n",
       "Autocorrelations of series 'train', by lag\n",
       "\n",
       "     0      1      2      3      4      5      6      7      8      9     10 \n",
       " 1.000  0.201 -0.322 -0.227 -0.177 -0.209  0.122  0.546  0.142 -0.266 -0.175 \n",
       "    11     12     13     14     15     16     17     18     19     20 \n",
       "-0.197 -0.242  0.179  0.558  0.105 -0.278 -0.145 -0.138 -0.250  0.124 "
      ]
     },
     "metadata": {},
     "output_type": "display_data"
    },
    {
     "data": {
      "image/png": "[encoded data removed]",
      "text/plain": [
       "Plot with title \"Series  train\""
      ]
     },
     "metadata": {},
     "output_type": "display_data"
    }
   ],
   "source": [
    "acf(train)\n",
    "acf(train,plot=FALSE)"
   ]
  },
  {
   "cell_type": "markdown",
   "metadata": {},
   "source": [
    "ACF plot suggests weekly seasonality present, as there are significant lags at 7 and 14"
   ]
  },
  {
   "cell_type": "markdown",
   "metadata": {},
   "source": [
    "### PACF"
   ]
  },
  {
   "cell_type": "code",
   "execution_count": 31,
   "metadata": {},
   "outputs": [
    {
     "data": {
      "text/plain": [
       "\n",
       "Partial autocorrelations of series 'train', by lag\n",
       "\n",
       "     1      2      3      4      5      6      7      8      9     10     11 \n",
       " 0.201 -0.377 -0.076 -0.268 -0.290  0.049  0.380 -0.074 -0.035  0.017 -0.197 \n",
       "    12     13     14     15     16     17     18     19     20 \n",
       "-0.179  0.115  0.204 -0.093 -0.006  0.037 -0.052 -0.143  0.008 "
      ]
     },
     "metadata": {},
     "output_type": "display_data"
    },
    {
     "data": {
      "image/png": "[encoded data removed]",
      "text/plain": [
       "Plot with title \"Series  train\""
      ]
     },
     "metadata": {},
     "output_type": "display_data"
    }
   ],
   "source": [
    "pacf(train)\n",
    "pacf(train,plot=FALSE)"
   ]
  },
  {
   "cell_type": "code",
   "execution_count": 32,
   "metadata": {},
   "outputs": [
    {
     "data": {
      "image/png": "[encoded data removed]",
      "text/plain": [
       "plot without title"
      ]
     },
     "metadata": {},
     "output_type": "display_data"
    }
   ],
   "source": [
    "plot(decompose(ts(as.numeric(train), frequency=7))) "
   ]
  },
  {
   "cell_type": "markdown",
   "metadata": {},
   "source": [
    "## De-seasonalize\n",
    "\n",
    "Since the training set have seasonality present we will apply De-seasonalize via the `stl` and `seasadj` functions to the training set and then the full data set. "
   ]
  },
  {
   "cell_type": "code",
   "execution_count": 33,
   "metadata": {
    "scrolled": false
   },
   "outputs": [],
   "source": [
    "library(stats)\n",
    "\n",
    "decomposed <-stl(ts(as.numeric(train), frequency=7), s.window=\"periodic\", robust=TRUE)\n",
    "train <- seasadj(decomposed,\"multiplicative\")"
   ]
  },
  {
   "cell_type": "code",
   "execution_count": 34,
   "metadata": {},
   "outputs": [
    {
     "data": {
      "image/png": "[encoded data removed]",
      "text/plain": [
       "plot without title"
      ]
     },
     "metadata": {},
     "output_type": "display_data"
    }
   ],
   "source": [
    "plot(ts(as.numeric(train), frequency=7))"
   ]
  },
  {
   "cell_type": "code",
   "execution_count": 35,
   "metadata": {},
   "outputs": [],
   "source": [
    "dates <- as.Date(\"2019-01-01\")+(0:(length(ts(as.numeric(train), frequency=7))-1))\n",
    "\n",
    "train <- xts(ts(as.numeric(train), frequency=7),dates,frequency=7)"
   ]
  },
  {
   "cell_type": "code",
   "execution_count": 36,
   "metadata": {},
   "outputs": [
    {
     "data": {
      "image/png": "[encoded data removed]",
      "text/plain": [
       "plot without title"
      ]
     },
     "metadata": {},
     "output_type": "display_data"
    }
   ],
   "source": [
    "plot(train)"
   ]
  },
  {
   "cell_type": "code",
   "execution_count": 37,
   "metadata": {},
   "outputs": [
    {
     "data": {
      "image/png": "[encoded data removed]",
      "text/plain": [
       "plot without title"
      ]
     },
     "metadata": {},
     "output_type": "display_data"
    }
   ],
   "source": [
    "plot(decompose(ts(as.numeric(train), frequency=7))) "
   ]
  },
  {
   "cell_type": "code",
   "execution_count": 38,
   "metadata": {},
   "outputs": [
    {
     "data": {
      "text/plain": [
       "\n",
       "Autocorrelations of series 'train', by lag\n",
       "\n",
       "     0      1      2      3      4      5      6      7      8      9     10 \n",
       " 1.000  0.118 -0.082 -0.082  0.024  0.130 -0.128 -0.156  0.023  0.052  0.006 \n",
       "    11     12     13     14     15     16     17     18     19     20 \n",
       "-0.113 -0.001  0.083 -0.008 -0.046 -0.051  0.061  0.061 -0.045 -0.051 "
      ]
     },
     "metadata": {},
     "output_type": "display_data"
    },
    {
     "data": {
      "image/png": "[encoded data removed]",
      "text/plain": [
       "Plot with title \"Series  train\""
      ]
     },
     "metadata": {},
     "output_type": "display_data"
    }
   ],
   "source": [
    "acf(train)\n",
    "acf(train,plot=FALSE)"
   ]
  },
  {
   "cell_type": "code",
   "execution_count": 39,
   "metadata": {},
   "outputs": [
    {
     "data": {
      "text/plain": [
       "\n",
       "Partial autocorrelations of series 'train', by lag\n",
       "\n",
       "     1      2      3      4      5      6      7      8      9     10     11 \n",
       " 0.118 -0.097 -0.062  0.035  0.114 -0.165 -0.103  0.057  0.000 -0.031 -0.067 \n",
       "    12     13     14     15     16     17     18     19     20 \n",
       " 0.043  0.023 -0.052 -0.011 -0.012  0.032  0.008 -0.023 -0.017 "
      ]
     },
     "metadata": {},
     "output_type": "display_data"
    },
    {
     "data": {
      "image/png": "[encoded data removed]",
      "text/plain": [
       "Plot with title \"Series  train\""
      ]
     },
     "metadata": {},
     "output_type": "display_data"
    }
   ],
   "source": [
    "pacf(train)\n",
    "pacf(train,plot=FALSE)"
   ]
  },
  {
   "cell_type": "markdown",
   "metadata": {},
   "source": [
    "### Deseasonalize the full data set"
   ]
  },
  {
   "cell_type": "code",
   "execution_count": 83,
   "metadata": {},
   "outputs": [
    {
     "data": {
      "image/png": "[encoded data removed]",
      "text/plain": [
       "plot without title"
      ]
     },
     "metadata": {},
     "output_type": "display_data"
    }
   ],
   "source": [
    "decomposed <-stl(ts(as.numeric(time_series), frequency=7), s.window=\"periodic\", robust=TRUE)\n",
    "time_series <- seasadj(decomposed,\"multiplicative\")\n",
    "dates <- as.Date(\"2019-01-01\")+(0:(length(ts(as.numeric(time_series), frequency=7))-1))\n",
    "\n",
    "time_series <- xts(ts(as.numeric(time_series), frequency=7),dates,frequency=7)\n",
    "plot(time_series)"
   ]
  },
  {
   "cell_type": "markdown",
   "metadata": {},
   "source": [
    "# Auto arima"
   ]
  },
  {
   "cell_type": "code",
   "execution_count": 41,
   "metadata": {},
   "outputs": [
    {
     "name": "stdout",
     "output_type": "stream",
     "text": [
      "\n",
      " ARIMA(0,0,0) with zero mean     : 1366.724\n",
      " ARIMA(0,0,0) with non-zero mean : 937.4932\n",
      " ARIMA(0,0,1) with zero mean     : 1248.945\n",
      " ARIMA(0,0,1) with non-zero mean : 937.4446\n",
      " ARIMA(0,0,2) with zero mean     : 1183.074\n",
      " ARIMA(0,0,2) with non-zero mean : 939.141\n",
      " ARIMA(0,0,3) with zero mean     : 1125.052\n",
      " ARIMA(0,0,3) with non-zero mean : 940.8365\n",
      " ARIMA(0,0,4) with zero mean     : 1105.688\n",
      " ARIMA(0,0,4) with non-zero mean : 942.3865\n",
      " ARIMA(0,0,5) with zero mean     : 1091.36\n",
      " ARIMA(0,0,5) with non-zero mean : 942.3256\n",
      " ARIMA(1,0,0) with zero mean     : 990.0803\n",
      " ARIMA(1,0,0) with non-zero mean : 937.8436\n",
      " ARIMA(1,0,1) with zero mean     : Inf\n",
      " ARIMA(1,0,1) with non-zero mean : 939.3591\n",
      " ARIMA(1,0,2) with zero mean     : Inf\n",
      " ARIMA(1,0,2) with non-zero mean : 940.7908\n",
      " ARIMA(1,0,3) with zero mean     : Inf\n",
      " ARIMA(1,0,3) with non-zero mean : 942.9679\n",
      " ARIMA(1,0,4) with zero mean     : Inf\n",
      " ARIMA(1,0,4) with non-zero mean : 943.5065\n",
      " ARIMA(2,0,0) with zero mean     : Inf\n",
      " ARIMA(2,0,0) with non-zero mean : 938.776\n",
      " ARIMA(2,0,1) with zero mean     : Inf\n",
      " ARIMA(2,0,1) with non-zero mean : 940.7655\n",
      " ARIMA(2,0,2) with zero mean     : Inf\n",
      " ARIMA(2,0,2) with non-zero mean : 937.6357\n",
      " ARIMA(2,0,3) with zero mean     : Inf\n",
      " ARIMA(2,0,3) with non-zero mean : 945.3075\n",
      " ARIMA(3,0,0) with zero mean     : Inf\n",
      " ARIMA(3,0,0) with non-zero mean : 940.5458\n",
      " ARIMA(3,0,1) with zero mean     : Inf\n",
      " ARIMA(3,0,1) with non-zero mean : 942.7736\n",
      " ARIMA(3,0,2) with zero mean     : Inf\n",
      " ARIMA(3,0,2) with non-zero mean : 939.888\n",
      " ARIMA(4,0,0) with zero mean     : Inf\n",
      " ARIMA(4,0,0) with non-zero mean : 942.6824\n",
      " ARIMA(4,0,1) with zero mean     : Inf\n",
      " ARIMA(4,0,1) with non-zero mean : 944.8234\n",
      " ARIMA(5,0,0) with zero mean     : Inf\n",
      " ARIMA(5,0,0) with non-zero mean : 943.2601\n",
      "\n",
      "\n",
      "\n",
      " Best model: ARIMA(0,0,1) with non-zero mean \n",
      "\n",
      "Series: train \n",
      "ARIMA(0,0,1) with non-zero mean \n",
      "\n",
      "Coefficients:\n",
      "         ma1      mean\n",
      "      0.1687  149.6636\n",
      "s.e.  0.1105    2.2205\n",
      "\n",
      "sigma^2 estimated as 389.9:  log likelihood=-465.6\n",
      "AIC=937.21   AICc=937.44   BIC=945.2\n",
      "\n",
      "Training set error measures:\n",
      "                     ME     RMSE      MAE       MPE     MAPE      MASE\n",
      "Training set 0.09083881 19.55873 13.67527 -1.739169 9.575325 0.7683206\n",
      "                    ACF1\n",
      "Training set -0.02416668\n"
     ]
    }
   ],
   "source": [
    "arima_model <- auto.arima(train,approximation=FALSE,trace=TRUE,stepwise=FALSE)#,max.p = 7,max.q = 5,max.d = 2)\n",
    "summary(arima_model)"
   ]
  },
  {
   "cell_type": "markdown",
   "metadata": {},
   "source": [
    "We can see that the best fitting model is:ARIMA(0,0,1)"
   ]
  },
  {
   "cell_type": "markdown",
   "metadata": {},
   "source": [
    "## ARIMA fit"
   ]
  },
  {
   "cell_type": "code",
   "execution_count": 42,
   "metadata": {},
   "outputs": [
    {
     "name": "stdout",
     "output_type": "stream",
     "text": [
      "\n",
      "Call:\n",
      "arima(x = train, order = c(0, 0, 1))\n",
      "\n",
      "Coefficients:\n",
      "         ma1  intercept\n",
      "      0.1687   149.6636\n",
      "s.e.  0.1105     2.2205\n",
      "\n",
      "sigma^2 estimated as 382.5:  log likelihood = -465.6,  aic = 937.21\n"
     ]
    },
    {
     "name": "stderr",
     "output_type": "stream",
     "text": [
      "Warning message in eval(expr, envir, enclos):\n",
      "\"Incompatible methods (\"Ops.xts\", \"Ops.ts\") for \"-\"\""
     ]
    },
    {
     "data": {
      "image/png": "[encoded data removed]",
      "text/plain": [
       "plot without title"
      ]
     },
     "metadata": {},
     "output_type": "display_data"
    }
   ],
   "source": [
    "# Fit the AR model to time series\n",
    "AR <- arima(train,order=c(0,0,1))\n",
    "print(AR)\n",
    "\n",
    "# Run the following commands to plot the series and fitted values\n",
    "ts.plot(train)\n",
    "AR_fitted <- train - residuals(AR)\n",
    "points(AR_fitted, type = \"l\", col = 2, lty = 2)"
   ]
  },
  {
   "cell_type": "markdown",
   "metadata": {},
   "source": [
    "### Check the residuals"
   ]
  },
  {
   "cell_type": "code",
   "execution_count": 43,
   "metadata": {},
   "outputs": [
    {
     "name": "stdout",
     "output_type": "stream",
     "text": [
      "\n",
      "\tLjung-Box test\n",
      "\n",
      "data:  Residuals from ARIMA(0,0,1) with non-zero mean\n",
      "Q* = 8.3417, df = 8, p-value = 0.4008\n",
      "\n",
      "Model df: 2.   Total lags used: 10\n",
      "\n"
     ]
    },
    {
     "data": {
      "image/png": "[encoded data removed]",
      "text/plain": [
       "plot without title"
      ]
     },
     "metadata": {},
     "output_type": "display_data"
    }
   ],
   "source": [
    "checkresiduals(AR)"
   ]
  },
  {
   "cell_type": "code",
   "execution_count": 44,
   "metadata": {},
   "outputs": [
    {
     "data": {
      "text/plain": [
       "\n",
       "\tShapiro-Wilk normality test\n",
       "\n",
       "data:  AR$residuals\n",
       "W = 0.93152, p-value = 3.689e-05\n"
      ]
     },
     "metadata": {},
     "output_type": "display_data"
    }
   ],
   "source": [
    "shapiro.test(AR$residuals)"
   ]
  },
  {
   "cell_type": "markdown",
   "metadata": {},
   "source": [
    "The ACF plot of the residuals from the ARIMA(0,0,1) model shows that not all autocorrelations are within the threshold limits, indicating that the residuals are not behaving like white noise. A portmanteau test returns a small p-value, also suggesting that the residuals are not white noise. \n",
    "\n",
    "However, the residuals are not normally distributed according to the small p-value obtained in the Shapiro Wilk test. I will try the Box-Cox transformation to see if it will make the residuals normally distributed."
   ]
  },
  {
   "cell_type": "markdown",
   "metadata": {},
   "source": [
    "##  ARIMA Forecast"
   ]
  },
  {
   "cell_type": "code",
   "execution_count": 45,
   "metadata": {
    "scrolled": false
   },
   "outputs": [
    {
     "data": {
      "image/png": "[encoded data removed]",
      "text/plain": [
       "plot without title"
      ]
     },
     "metadata": {},
     "output_type": "display_data"
    }
   ],
   "source": [
    "for_AR <- forecast(AR,h=45)\n",
    "autoplot(for_AR)"
   ]
  },
  {
   "cell_type": "markdown",
   "metadata": {},
   "source": [
    "# Native "
   ]
  },
  {
   "cell_type": "code",
   "execution_count": 46,
   "metadata": {
    "scrolled": false
   },
   "outputs": [
    {
     "name": "stdout",
     "output_type": "stream",
     "text": [
      "\n",
      "Forecast method: Naive method\n",
      "\n",
      "Model Information:\n",
      "Call: naive(y = train, h = 45) \n",
      "\n",
      "Residual sd: 25.0709 \n",
      "\n",
      "Error measures:\n",
      "                     ME     RMSE      MAE       MPE     MAPE MASE       ACF1\n",
      "Training set 0.08571429 25.07091 17.79891 -1.252983 11.93192    1 -0.3254875\n",
      "\n",
      "Forecasts:\n",
      "    Point Forecast       Lo 80    Hi 80       Lo 95    Hi 95\n",
      "107       95.08775   62.958082 127.2174   45.949664 144.2258\n",
      "108       95.08775   49.649538 140.5260   25.596002 164.5795\n",
      "109       95.08775   39.437533 150.7380    9.978088 180.1974\n",
      "110       95.08775   30.828415 159.3471   -3.188422 193.3639\n",
      "111       95.08775   23.243629 166.9319  -14.788351 204.9639\n",
      "112       95.08775   16.386459 173.7890  -25.275488 215.4510\n",
      "113       95.08775   10.080640 180.0949  -34.919406 225.0949\n",
      "114       95.08775    4.211327 185.9642  -43.895746 234.0712\n",
      "115       95.08775   -1.301253 191.4768  -52.326508 242.5020\n",
      "116       95.08775   -6.515180 196.6907  -60.300522 250.4760\n",
      "117       95.08775  -11.474302 201.6498  -67.884845 258.0603\n",
      "118       95.08775  -16.212683 206.3882  -75.131573 265.3071\n",
      "119       95.08775  -20.757414 210.9329  -82.082139 272.2576\n",
      "120       95.08775  -25.130458 215.3060  -88.770133 278.9456\n",
      "121       95.08775  -29.349917 219.5254  -95.223239 285.3987\n",
      "122       95.08775  -33.430920 223.6064 -101.464594 291.6401\n",
      "123       95.08775  -37.386263 227.5618 -107.513769 297.6893\n",
      "124       95.08775  -41.226885 231.4024 -113.387493 303.5630\n",
      "125       95.08775  -44.962224 235.1377 -119.100202 309.2757\n",
      "126       95.08775  -48.600491 238.7760 -124.664452 314.8400\n",
      "127       95.08775  -52.148883 242.3244 -130.091249 320.2667\n",
      "128       95.08775  -55.613749 245.7892 -135.390303 325.5658\n",
      "129       95.08775  -59.000722 249.1762 -140.570232 330.7457\n",
      "130       95.08775  -62.314832 252.4903 -145.638726 335.8142\n",
      "131       95.08775  -65.560588 255.7361 -150.602680 340.7782\n",
      "132       95.08775  -68.742052 258.9176 -155.468310 345.6438\n",
      "133       95.08775  -71.862900 262.0384 -160.241235 350.4167\n",
      "134       95.08775  -74.926470 265.1020 -164.926561 355.1021\n",
      "135       95.08775  -77.935805 268.1113 -169.528942 359.7044\n",
      "136       95.08775  -80.893687 271.0692 -174.052632 364.2281\n",
      "137       95.08775  -83.802668 273.9782 -178.501535 368.6770\n",
      "138       95.08775  -86.665096 276.8406 -182.879241 373.0547\n",
      "139       95.08775  -89.483138 279.6586 -187.189064 377.3646\n",
      "140       95.08775  -92.258796 282.4343 -191.434066 381.6096\n",
      "141       95.08775  -94.993926 285.1694 -195.617088 385.7926\n",
      "142       95.08775  -97.690255 287.8658 -199.740766 389.9163\n",
      "143       95.08775 -100.349388 290.5249 -203.807559 393.9831\n",
      "144       95.08775 -102.972822 293.1483 -207.819756 397.9953\n",
      "145       95.08775 -105.561959 295.7375 -211.779499 401.9550\n",
      "146       95.08775 -108.118110 298.2936 -215.688794 405.8643\n",
      "147       95.08775 -110.642503 300.8180 -219.549520 409.7250\n",
      "148       95.08775 -113.136294 303.3118 -223.363444 413.5389\n",
      "149       95.08775 -115.600570 305.7761 -227.132229 417.3077\n",
      "150       95.08775 -118.036354 308.2119 -230.857439 421.0329\n",
      "151       95.08775 -120.444612 310.6201 -234.540552 424.7161\n"
     ]
    }
   ],
   "source": [
    "library(forecast)\n",
    "naive_mod <- naive(train, h = 45)\n",
    "summary(naive_mod)"
   ]
  },
  {
   "cell_type": "markdown",
   "metadata": {},
   "source": [
    "### Check residuals"
   ]
  },
  {
   "cell_type": "code",
   "execution_count": 47,
   "metadata": {},
   "outputs": [
    {
     "name": "stdout",
     "output_type": "stream",
     "text": [
      "\n",
      "\tLjung-Box test\n",
      "\n",
      "data:  Residuals from Naive method\n",
      "Q* = 23.496, df = 10, p-value = 0.009056\n",
      "\n",
      "Model df: 0.   Total lags used: 10\n",
      "\n"
     ]
    },
    {
     "data": {
      "image/png": "[encoded data removed]",
      "text/plain": [
       "plot without title"
      ]
     },
     "metadata": {},
     "output_type": "display_data"
    }
   ],
   "source": [
    "checkresiduals(naive_mod)"
   ]
  },
  {
   "cell_type": "markdown",
   "metadata": {},
   "source": [
    "The ACF plot of the residuals from the Native model shows that not all autocorrelations are within the threshold limits, indicating that the residuals are not behaving like white noise. A portmanteau test returns a small p-value, also suggesting that the residuals are not white noise."
   ]
  },
  {
   "cell_type": "code",
   "execution_count": 48,
   "metadata": {},
   "outputs": [
    {
     "data": {
      "text/plain": [
       "\n",
       "\tShapiro-Wilk normality test\n",
       "\n",
       "data:  naive_mod$residuals\n",
       "W = 0.94696, p-value = 0.0003681\n"
      ]
     },
     "metadata": {},
     "output_type": "display_data"
    }
   ],
   "source": [
    "shapiro.test(naive_mod$residuals)"
   ]
  },
  {
   "cell_type": "markdown",
   "metadata": {},
   "source": [
    "### Forecast"
   ]
  },
  {
   "cell_type": "code",
   "execution_count": 49,
   "metadata": {},
   "outputs": [
    {
     "data": {
      "image/png": "[encoded data removed]",
      "text/plain": [
       "plot without title"
      ]
     },
     "metadata": {},
     "output_type": "display_data"
    }
   ],
   "source": [
    "autoplot(forecast(naive_mod,h=45))"
   ]
  },
  {
   "cell_type": "markdown",
   "metadata": {},
   "source": [
    "# Simple exoponential smoothing"
   ]
  },
  {
   "cell_type": "code",
   "execution_count": 50,
   "metadata": {
    "scrolled": false
   },
   "outputs": [
    {
     "name": "stdout",
     "output_type": "stream",
     "text": [
      "\n",
      "Forecast method: Simple exponential smoothing\n",
      "\n",
      "Model Information:\n",
      "Simple exponential smoothing \n",
      "\n",
      "Call:\n",
      " ses(y = train, h = 45) \n",
      "\n",
      "  Smoothing parameters:\n",
      "    alpha = 1e-04 \n",
      "\n",
      "  Initial states:\n",
      "    l = 149.8494 \n",
      "\n",
      "  sigma:  19.9525\n",
      "\n",
      "     AIC     AICc      BIC \n",
      "1132.897 1133.132 1140.887 \n",
      "\n",
      "Error measures:\n",
      "                      ME    RMSE      MAE       MPE     MAPE      MASE\n",
      "Training set 0.005259236 19.7634 13.75746 -1.850195 9.675798 0.7729382\n",
      "                  ACF1\n",
      "Training set 0.1175613\n",
      "\n",
      "Forecasts:\n",
      "    Point Forecast    Lo 80    Hi 80    Lo 95    Hi 95\n",
      "107       149.8495 124.2793 175.4197 110.7433 188.9557\n",
      "108       149.8495 124.2793 175.4197 110.7433 188.9557\n",
      "109       149.8495 124.2793 175.4197 110.7433 188.9557\n",
      "110       149.8495 124.2793 175.4197 110.7433 188.9557\n",
      "111       149.8495 124.2793 175.4197 110.7433 188.9557\n",
      "112       149.8495 124.2793 175.4197 110.7433 188.9557\n",
      "113       149.8495 124.2793 175.4197 110.7433 188.9557\n",
      "114       149.8495 124.2793 175.4197 110.7433 188.9557\n",
      "115       149.8495 124.2793 175.4197 110.7433 188.9557\n",
      "116       149.8495 124.2793 175.4197 110.7433 188.9557\n",
      "117       149.8495 124.2793 175.4197 110.7433 188.9557\n",
      "118       149.8495 124.2793 175.4197 110.7433 188.9557\n",
      "119       149.8495 124.2793 175.4197 110.7433 188.9557\n",
      "120       149.8495 124.2793 175.4197 110.7433 188.9557\n",
      "121       149.8495 124.2793 175.4197 110.7433 188.9557\n",
      "122       149.8495 124.2793 175.4197 110.7433 188.9557\n",
      "123       149.8495 124.2793 175.4197 110.7433 188.9557\n",
      "124       149.8495 124.2793 175.4197 110.7433 188.9557\n",
      "125       149.8495 124.2793 175.4197 110.7433 188.9557\n",
      "126       149.8495 124.2793 175.4197 110.7433 188.9557\n",
      "127       149.8495 124.2793 175.4197 110.7433 188.9557\n",
      "128       149.8495 124.2793 175.4197 110.7433 188.9557\n",
      "129       149.8495 124.2793 175.4197 110.7433 188.9557\n",
      "130       149.8495 124.2793 175.4197 110.7433 188.9557\n",
      "131       149.8495 124.2793 175.4197 110.7433 188.9557\n",
      "132       149.8495 124.2793 175.4197 110.7433 188.9557\n",
      "133       149.8495 124.2793 175.4197 110.7433 188.9557\n",
      "134       149.8495 124.2793 175.4197 110.7433 188.9557\n",
      "135       149.8495 124.2793 175.4197 110.7433 188.9557\n",
      "136       149.8495 124.2793 175.4197 110.7433 188.9557\n",
      "137       149.8495 124.2793 175.4197 110.7433 188.9557\n",
      "138       149.8495 124.2793 175.4197 110.7433 188.9557\n",
      "139       149.8495 124.2793 175.4197 110.7433 188.9557\n",
      "140       149.8495 124.2793 175.4197 110.7433 188.9557\n",
      "141       149.8495 124.2793 175.4197 110.7433 188.9557\n",
      "142       149.8495 124.2793 175.4197 110.7433 188.9557\n",
      "143       149.8495 124.2793 175.4197 110.7433 188.9557\n",
      "144       149.8495 124.2793 175.4197 110.7433 188.9557\n",
      "145       149.8495 124.2793 175.4197 110.7433 188.9557\n",
      "146       149.8495 124.2793 175.4197 110.7433 188.9557\n",
      "147       149.8495 124.2793 175.4197 110.7433 188.9557\n",
      "148       149.8495 124.2793 175.4197 110.7433 188.9557\n",
      "149       149.8495 124.2793 175.4197 110.7433 188.9557\n",
      "150       149.8495 124.2793 175.4197 110.7433 188.9557\n",
      "151       149.8495 124.2793 175.4197 110.7433 188.9557\n"
     ]
    }
   ],
   "source": [
    "se_model <- ses(train, h = 45)\n",
    "summary(se_model)"
   ]
  },
  {
   "cell_type": "markdown",
   "metadata": {},
   "source": [
    "### Check residuals"
   ]
  },
  {
   "cell_type": "code",
   "execution_count": 51,
   "metadata": {},
   "outputs": [
    {
     "name": "stdout",
     "output_type": "stream",
     "text": [
      "\n",
      "\tLjung-Box test\n",
      "\n",
      "data:  Residuals from Simple exponential smoothing\n",
      "Q* = 10.061, df = 8, p-value = 0.2608\n",
      "\n",
      "Model df: 2.   Total lags used: 10\n",
      "\n"
     ]
    },
    {
     "data": {
      "image/png": "[encoded data removed]",
      "text/plain": [
       "plot without title"
      ]
     },
     "metadata": {},
     "output_type": "display_data"
    }
   ],
   "source": [
    "checkresiduals(se_model)"
   ]
  },
  {
   "cell_type": "code",
   "execution_count": 52,
   "metadata": {},
   "outputs": [
    {
     "data": {
      "text/plain": [
       "\n",
       "\tShapiro-Wilk normality test\n",
       "\n",
       "data:  se_model$residuals\n",
       "W = 0.93088, p-value = 3.382e-05\n"
      ]
     },
     "metadata": {},
     "output_type": "display_data"
    }
   ],
   "source": [
    "shapiro.test(se_model$residuals)"
   ]
  },
  {
   "cell_type": "markdown",
   "metadata": {},
   "source": [
    "The ACF plot of the residuals from the simple exponential smoothing model shows that all autocorrelations are within the threshold limits, indicating that the residuals are behaving like white noise. A portmanteau test returns a p -value of 0.2986, which is larger than the significance level of 0.05  also suggesting that the residuals are white noise.\n",
    "\n",
    "Still obtain a small p-value suggesting that the residuals are not normally distributed. Forecasts from this model will probably be quite good, but prediction intervals that are computed assuming a normal distribution may be inaccurate."
   ]
  },
  {
   "cell_type": "markdown",
   "metadata": {},
   "source": [
    "### Forecast"
   ]
  },
  {
   "cell_type": "code",
   "execution_count": 53,
   "metadata": {},
   "outputs": [
    {
     "data": {
      "image/png": "[encoded data removed]",
      "text/plain": [
       "plot without title"
      ]
     },
     "metadata": {},
     "output_type": "display_data"
    }
   ],
   "source": [
    "autoplot(se_model)"
   ]
  },
  {
   "cell_type": "markdown",
   "metadata": {},
   "source": [
    "# Holt's trend method"
   ]
  },
  {
   "cell_type": "code",
   "execution_count": 54,
   "metadata": {
    "scrolled": false
   },
   "outputs": [
    {
     "name": "stdout",
     "output_type": "stream",
     "text": [
      "\n",
      "Forecast method: Holt's method\n",
      "\n",
      "Model Information:\n",
      "Holt's method \n",
      "\n",
      "Call:\n",
      " holt(y = train, h = 45) \n",
      "\n",
      "  Smoothing parameters:\n",
      "    alpha = 1e-04 \n",
      "    beta  = 1e-04 \n",
      "\n",
      "  Initial states:\n",
      "    l = 141.5899 \n",
      "    b = 0.1212 \n",
      "\n",
      "  sigma:  20.312\n",
      "\n",
      "     AIC     AICc      BIC \n",
      "1138.624 1139.224 1151.941 \n",
      "\n",
      "Error measures:\n",
      "                   ME     RMSE      MAE        MPE     MAPE      MASE      ACF1\n",
      "Training set 1.223427 19.92506 13.81832 -0.9884767 9.633929 0.7763575 0.1281527\n",
      "\n",
      "Forecasts:\n",
      "    Point Forecast    Lo 80    Hi 80    Lo 95    Hi 95\n",
      "107       156.1029 130.0720 182.1337 116.2921 195.9136\n",
      "108       156.2370 130.2062 182.2679 116.4262 196.0478\n",
      "109       156.3712 130.3403 182.4020 116.5604 196.1819\n",
      "110       156.5053 130.4744 182.5362 116.6945 196.3161\n",
      "111       156.6395 130.6086 182.6703 116.8287 196.4502\n",
      "112       156.7736 130.7427 182.8045 116.9628 196.5844\n",
      "113       156.9078 130.8769 182.9386 117.0970 196.7185\n",
      "114       157.0419 131.0110 183.0728 117.2311 196.8527\n",
      "115       157.1761 131.1452 183.2070 117.3652 196.9869\n",
      "116       157.3102 131.2793 183.3411 117.4994 197.1210\n",
      "117       157.4444 131.4134 183.4753 117.6335 197.2552\n",
      "118       157.5785 131.5476 183.6094 117.7676 197.3894\n",
      "119       157.7127 131.6817 183.7436 117.9017 197.5236\n",
      "120       157.8468 131.8158 183.8778 118.0358 197.6578\n",
      "121       157.9810 131.9499 184.0120 118.1699 197.7920\n",
      "122       158.1151 132.0841 184.1462 118.3040 197.9262\n",
      "123       158.2493 132.2182 184.2803 118.4381 198.0604\n",
      "124       158.3834 132.3523 184.4145 118.5722 198.1946\n",
      "125       158.5176 132.4864 184.5487 118.7063 198.3288\n",
      "126       158.6517 132.6205 184.6829 118.8404 198.4630\n",
      "127       158.7859 132.7546 184.8171 118.9744 198.5973\n",
      "128       158.9200 132.8887 184.9514 119.1085 198.7315\n",
      "129       159.0542 133.0227 185.0856 119.2425 198.8658\n",
      "130       159.1883 133.1568 185.2198 119.3766 199.0000\n",
      "131       159.3225 133.2909 185.3540 119.5106 199.1343\n",
      "132       159.4566 133.4249 185.4883 119.6446 199.2686\n",
      "133       159.5907 133.5590 185.6225 119.7786 199.4029\n",
      "134       159.7249 133.6930 185.7568 119.9126 199.5372\n",
      "135       159.8590 133.8271 185.8910 120.0466 199.6715\n",
      "136       159.9932 133.9611 186.0253 120.1806 199.8058\n",
      "137       160.1273 134.0951 186.1596 120.3145 199.9402\n",
      "138       160.2615 134.2292 186.2938 120.4485 200.0745\n",
      "139       160.3956 134.3632 186.4281 120.5824 200.2089\n",
      "140       160.5298 134.4972 186.5624 120.7163 200.3433\n",
      "141       160.6639 134.6311 186.6967 120.8502 200.4777\n",
      "142       160.7981 134.7651 186.8311 120.9841 200.6121\n",
      "143       160.9322 134.8991 186.9654 121.1180 200.7465\n",
      "144       161.0664 135.0331 187.0997 121.2518 200.8809\n",
      "145       161.2005 135.1670 187.2341 121.3857 201.0154\n",
      "146       161.3347 135.3010 187.3684 121.5195 201.1499\n",
      "147       161.4688 135.4349 187.5028 121.6533 201.2843\n",
      "148       161.6030 135.5688 187.6372 121.7871 201.4188\n",
      "149       161.7371 135.7027 187.7716 121.9209 201.5534\n",
      "150       161.8713 135.8366 187.9060 122.0547 201.6879\n",
      "151       162.0054 135.9705 188.0404 122.1884 201.8225\n"
     ]
    }
   ],
   "source": [
    "holt_model <- holt(train, h = 45)\n",
    "summary(holt_model)"
   ]
  },
  {
   "cell_type": "markdown",
   "metadata": {},
   "source": [
    "### Check residuals"
   ]
  },
  {
   "cell_type": "code",
   "execution_count": 55,
   "metadata": {},
   "outputs": [
    {
     "name": "stdout",
     "output_type": "stream",
     "text": [
      "\n",
      "\tLjung-Box test\n",
      "\n",
      "data:  Residuals from Holt's method\n",
      "Q* = 9.9964, df = 6, p-value = 0.1248\n",
      "\n",
      "Model df: 4.   Total lags used: 10\n",
      "\n"
     ]
    },
    {
     "data": {
      "image/png": "[encoded data removed]",
      "text/plain": [
       "plot without title"
      ]
     },
     "metadata": {},
     "output_type": "display_data"
    }
   ],
   "source": [
    "checkresiduals(holt_model)"
   ]
  },
  {
   "cell_type": "code",
   "execution_count": 56,
   "metadata": {},
   "outputs": [
    {
     "data": {
      "text/plain": [
       "\n",
       "\tShapiro-Wilk normality test\n",
       "\n",
       "data:  holt_model$residuals\n",
       "W = 0.92034, p-value = 8.528e-06\n"
      ]
     },
     "metadata": {},
     "output_type": "display_data"
    }
   ],
   "source": [
    "shapiro.test(holt_model$residuals)"
   ]
  },
  {
   "cell_type": "markdown",
   "metadata": {},
   "source": [
    "The ACF plot of the residuals from the Holt's model shows that all autocorrelations are within the threshold limits, indicating that the residuals are behaving like white noise. A portmanteau test returns a p -value of 0.1258, which is larger than the significance level of 0.05  also suggesting that the residuals are white noise.\n",
    "\n",
    "Still obtain a small p-value suggesting that the residuals are not normally distributed. Forecasts from this model will probably be quite good, but prediction intervals that are computed assuming a normal distribution may be inaccurate."
   ]
  },
  {
   "cell_type": "markdown",
   "metadata": {},
   "source": [
    "### Forecast"
   ]
  },
  {
   "cell_type": "code",
   "execution_count": 57,
   "metadata": {},
   "outputs": [
    {
     "data": {
      "image/png": "[encoded data removed]",
      "text/plain": [
       "plot without title"
      ]
     },
     "metadata": {},
     "output_type": "display_data"
    }
   ],
   "source": [
    "autoplot(holt_model)"
   ]
  },
  {
   "cell_type": "markdown",
   "metadata": {},
   "source": [
    "# Linear regression"
   ]
  },
  {
   "cell_type": "code",
   "execution_count": 58,
   "metadata": {},
   "outputs": [],
   "source": [
    "train_ts <- ts(as.numeric(train), frequency=7)"
   ]
  },
  {
   "cell_type": "code",
   "execution_count": 59,
   "metadata": {},
   "outputs": [
    {
     "data": {
      "text/plain": [
       "\n",
       "Call:\n",
       "tslm(formula = train_ts ~ season + trend)\n",
       "\n",
       "Residuals:\n",
       "    Min      1Q  Median      3Q     Max \n",
       "-51.705 -10.977   0.524  10.214  83.734 \n",
       "\n",
       "Coefficients:\n",
       "             Estimate Std. Error t value Pr(>|t|)    \n",
       "(Intercept) 137.74235    5.98663  23.008   <2e-16 ***\n",
       "season2       7.32047    7.11785   1.028   0.3063    \n",
       "season3       9.52144    7.11674   1.338   0.1840    \n",
       "season4      17.70523    7.11618   2.488   0.0145 *  \n",
       "season5       9.22845    7.11618   1.297   0.1977    \n",
       "season6      13.02841    7.11674   1.831   0.0702 .  \n",
       "season7       9.53175    7.11785   1.339   0.1836    \n",
       "trend         0.05085    0.06294   0.808   0.4211    \n",
       "---\n",
       "Signif. codes:  0 '***' 0.001 '**' 0.01 '*' 0.05 '.' 0.1 ' ' 1\n",
       "\n",
       "Residual standard error: 19.8 on 98 degrees of freedom\n",
       "Multiple R-squared:  0.07194,\tAdjusted R-squared:  0.005651 \n",
       "F-statistic: 1.085 on 7 and 98 DF,  p-value: 0.3787\n"
      ]
     },
     "metadata": {},
     "output_type": "display_data"
    }
   ],
   "source": [
    "linear_model <- tslm(train_ts~season+trend)\n",
    "summary(linear_model)"
   ]
  },
  {
   "cell_type": "markdown",
   "metadata": {},
   "source": [
    "### Check residuals"
   ]
  },
  {
   "cell_type": "code",
   "execution_count": 60,
   "metadata": {},
   "outputs": [
    {
     "data": {
      "text/plain": [
       "\n",
       "\tBreusch-Godfrey test for serial correlation of order up to 14\n",
       "\n",
       "data:  Residuals from Linear regression model\n",
       "LM test = 14.83, df = 14, p-value = 0.3899\n"
      ]
     },
     "metadata": {},
     "output_type": "display_data"
    },
    {
     "data": {
      "image/png": "[encoded data removed]",
      "text/plain": [
       "plot without title"
      ]
     },
     "metadata": {},
     "output_type": "display_data"
    }
   ],
   "source": [
    "checkresiduals(linear_model)"
   ]
  },
  {
   "cell_type": "code",
   "execution_count": 61,
   "metadata": {},
   "outputs": [
    {
     "data": {
      "text/plain": [
       "\n",
       "\tShapiro-Wilk normality test\n",
       "\n",
       "data:  linear_model$residuals\n",
       "W = 0.94916, p-value = 0.0004822\n"
      ]
     },
     "metadata": {},
     "output_type": "display_data"
    }
   ],
   "source": [
    "shapiro.test(linear_model$residuals)"
   ]
  },
  {
   "cell_type": "markdown",
   "metadata": {},
   "source": [
    "The ACF plot of the residuals from the simple exponential smoothing model shows that most autocorrelations are within the threshold limits, indicating that the residuals are behaving like white noise. Breusch-Godfrey test returns a p -value of 0.4065, which is larger than the significance level of 0.05 also suggesting that the residuals are white noise.\n",
    "\n",
    "Still obtain a small p-value suggesting that the residuals are not normally distributed. Forecasts from this model will probably be quite good, but prediction intervals that are computed assuming a normal distribution may be inaccurate."
   ]
  },
  {
   "cell_type": "markdown",
   "metadata": {},
   "source": [
    "### Forecast"
   ]
  },
  {
   "cell_type": "code",
   "execution_count": 62,
   "metadata": {},
   "outputs": [
    {
     "data": {
      "image/png": "[encoded data removed]",
      "text/plain": [
       "plot without title"
      ]
     },
     "metadata": {},
     "output_type": "display_data"
    }
   ],
   "source": [
    "linear_forecast <- forecast(linear_model,h=45)\n",
    "autoplot(linear_forecast)+ xlab(\"Time\") + ylab(\"Calls\")"
   ]
  },
  {
   "cell_type": "markdown",
   "metadata": {},
   "source": [
    "# Summary of errror statistics- training"
   ]
  },
  {
   "cell_type": "code",
   "execution_count": 63,
   "metadata": {},
   "outputs": [],
   "source": [
    "Metric <- c('MSE','MAPE')\n",
    "ARIMA <- c(accuracy(AR)[2]^2,accuracy(AR)[5])\n",
    "Naive <- c(accuracy(naive_mod)[2]^2,accuracy(naive_mod)[5])\n",
    "SE <- c(accuracy(se_model)[2]^2,accuracy(se_model)[5])\n",
    "Holt <- c(accuracy(holt_model)[2]^2,accuracy(holt_model)[5])\n",
    "Linear_regression <- c(accuracy(linear_model)[2]^2,accuracy(linear_model)[5])"
   ]
  },
  {
   "cell_type": "code",
   "execution_count": 64,
   "metadata": {},
   "outputs": [
    {
     "data": {
      "text/html": [
       "<table class=\"dataframe\">\n",
       "<caption>A data.frame: 2 × 6</caption>\n",
       "<thead>\n",
       "\t<tr><th scope=col>Metric</th><th scope=col>ARIMA</th><th scope=col>Naive</th><th scope=col>SE</th><th scope=col>Holt</th><th scope=col>Linear_regression</th></tr>\n",
       "\t<tr><th scope=col>&lt;fct&gt;</th><th scope=col>&lt;dbl&gt;</th><th scope=col>&lt;dbl&gt;</th><th scope=col>&lt;dbl&gt;</th><th scope=col>&lt;dbl&gt;</th><th scope=col>&lt;dbl&gt;</th></tr>\n",
       "</thead>\n",
       "<tbody>\n",
       "\t<tr><td>MSE </td><td>382.544004</td><td>628.55067</td><td>390.592015</td><td>397.007857</td><td>362.456246</td></tr>\n",
       "\t<tr><td>MAPE</td><td>  9.575325</td><td> 11.93192</td><td>  9.675798</td><td>  9.633929</td><td>  9.541291</td></tr>\n",
       "</tbody>\n",
       "</table>\n"
      ],
      "text/latex": [
       "A data.frame: 2 × 6\n",
       "\\begin{tabular}{llllll}\n",
       " Metric & ARIMA & Naive & SE & Holt & Linear\\_regression\\\\\n",
       " <fct> & <dbl> & <dbl> & <dbl> & <dbl> & <dbl>\\\\\n",
       "\\hline\n",
       "\t MSE  & 382.544004 & 628.55067 & 390.592015 & 397.007857 & 362.456246\\\\\n",
       "\t MAPE &   9.575325 &  11.93192 &   9.675798 &   9.633929 &   9.541291\\\\\n",
       "\\end{tabular}\n"
      ],
      "text/markdown": [
       "\n",
       "A data.frame: 2 × 6\n",
       "\n",
       "| Metric &lt;fct&gt; | ARIMA &lt;dbl&gt; | Naive &lt;dbl&gt; | SE &lt;dbl&gt; | Holt &lt;dbl&gt; | Linear_regression &lt;dbl&gt; |\n",
       "|---|---|---|---|---|---|\n",
       "| MSE  | 382.544004 | 628.55067 | 390.592015 | 397.007857 | 362.456246 |\n",
       "| MAPE |   9.575325 |  11.93192 |   9.675798 |   9.633929 |   9.541291 |\n",
       "\n"
      ],
      "text/plain": [
       "  Metric ARIMA      Naive     SE         Holt       Linear_regression\n",
       "1 MSE    382.544004 628.55067 390.592015 397.007857 362.456246       \n",
       "2 MAPE     9.575325  11.93192   9.675798   9.633929   9.541291       "
      ]
     },
     "metadata": {},
     "output_type": "display_data"
    }
   ],
   "source": [
    "data.frame(Metric,ARIMA,Naive,SE,Holt,Linear_regression)"
   ]
  },
  {
   "cell_type": "markdown",
   "metadata": {},
   "source": [
    "# Error statistics on the test data"
   ]
  },
  {
   "cell_type": "code",
   "execution_count": 65,
   "metadata": {},
   "outputs": [],
   "source": [
    "test_df <-data.frame(test)\n",
    "Metric <- c('MAPE','MSE')\n",
    "\n",
    "#Forecasting Arima\n",
    "fore_arima <- forecast::forecast(AR, h=45)\n",
    "df_arima <- as.data.frame(fore_arima)\n",
    "test_df$arima <- df_arima$`Point Forecast`\n",
    "\n",
    "\n",
    "ARIMA<-c(MAPE(test_df$arima,test_df$test),MSE(test_df$arima,test_df$test))"
   ]
  },
  {
   "cell_type": "code",
   "execution_count": 66,
   "metadata": {},
   "outputs": [],
   "source": [
    "#Forecasting se model\n",
    "fore_se <- forecast::forecast(se_model, h=45)\n",
    "df_se <- as.data.frame(fore_se)\n",
    "test_df$se <- df_se$`Point Forecast`\n",
    "\n",
    "SE <-c(MAPE(test_df$se,test_df$test),MSE(test_df$se,test_df$test))"
   ]
  },
  {
   "cell_type": "code",
   "execution_count": 67,
   "metadata": {},
   "outputs": [],
   "source": [
    "#Forecasting Naive\n",
    "fore_naive <- forecast::forecast(naive_mod, h=45)\n",
    "df_naive <- as.data.frame(fore_naive)\n",
    "test_df$naive <- df_naive$`Point Forecast`\n",
    "\n",
    "Naive <-c(MAPE(test_df$naive,test_df$test),MSE(test_df$naive,test_df$test))"
   ]
  },
  {
   "cell_type": "code",
   "execution_count": 68,
   "metadata": {},
   "outputs": [],
   "source": [
    "#Forecasting holt\n",
    "fore_holt <- forecast::forecast(holt_model, h=45)\n",
    "df_holt <- as.data.frame(fore_holt)\n",
    "test_df$holt <- df_holt$`Point Forecast`\n",
    "\n",
    "Holt <- c(MAPE(test_df$holt,test_df$test),MSE(test_df$holt,test_df$test))"
   ]
  },
  {
   "cell_type": "code",
   "execution_count": 69,
   "metadata": {},
   "outputs": [],
   "source": [
    "#Forecasting linear\n",
    "fore_linear <- forecast::forecast(linear_model, h=45)\n",
    "df_linear <- as.data.frame(fore_linear)\n",
    "test_df$linear <- df_linear$`Point Forecast`\n",
    "\n",
    "Linear_Regression <- c(MAPE(test_df$linear,test_df$test),MSE(test_df$linear,test_df$test))"
   ]
  },
  {
   "cell_type": "code",
   "execution_count": 70,
   "metadata": {},
   "outputs": [
    {
     "data": {
      "text/html": [
       "<table class=\"dataframe\">\n",
       "<caption>A data.frame: 2 × 6</caption>\n",
       "<thead>\n",
       "\t<tr><th scope=col>Metric</th><th scope=col>ARIMA</th><th scope=col>Naive</th><th scope=col>SE</th><th scope=col>Holt</th><th scope=col>Linear_Regression</th></tr>\n",
       "\t<tr><th scope=col>&lt;fct&gt;</th><th scope=col>&lt;dbl&gt;</th><th scope=col>&lt;dbl&gt;</th><th scope=col>&lt;dbl&gt;</th><th scope=col>&lt;dbl&gt;</th><th scope=col>&lt;dbl&gt;</th></tr>\n",
       "</thead>\n",
       "<tbody>\n",
       "\t<tr><td>MAPE</td><td>   0.2183842</td><td>   0.3296079</td><td>   0.220523</td><td>   0.2403609</td><td>   0.2455438</td></tr>\n",
       "\t<tr><td>MSE </td><td>1106.4285837</td><td>3862.3253577</td><td>1119.584593</td><td>1237.1754781</td><td>1289.1123214</td></tr>\n",
       "</tbody>\n",
       "</table>\n"
      ],
      "text/latex": [
       "A data.frame: 2 × 6\n",
       "\\begin{tabular}{llllll}\n",
       " Metric & ARIMA & Naive & SE & Holt & Linear\\_Regression\\\\\n",
       " <fct> & <dbl> & <dbl> & <dbl> & <dbl> & <dbl>\\\\\n",
       "\\hline\n",
       "\t MAPE &    0.2183842 &    0.3296079 &    0.220523 &    0.2403609 &    0.2455438\\\\\n",
       "\t MSE  & 1106.4285837 & 3862.3253577 & 1119.584593 & 1237.1754781 & 1289.1123214\\\\\n",
       "\\end{tabular}\n"
      ],
      "text/markdown": [
       "\n",
       "A data.frame: 2 × 6\n",
       "\n",
       "| Metric &lt;fct&gt; | ARIMA &lt;dbl&gt; | Naive &lt;dbl&gt; | SE &lt;dbl&gt; | Holt &lt;dbl&gt; | Linear_Regression &lt;dbl&gt; |\n",
       "|---|---|---|---|---|---|\n",
       "| MAPE |    0.2183842 |    0.3296079 |    0.220523 |    0.2403609 |    0.2455438 |\n",
       "| MSE  | 1106.4285837 | 3862.3253577 | 1119.584593 | 1237.1754781 | 1289.1123214 |\n",
       "\n"
      ],
      "text/plain": [
       "  Metric ARIMA        Naive        SE          Holt         Linear_Regression\n",
       "1 MAPE      0.2183842    0.3296079    0.220523    0.2403609    0.2455438     \n",
       "2 MSE    1106.4285837 3862.3253577 1119.584593 1237.1754781 1289.1123214     "
      ]
     },
     "metadata": {},
     "output_type": "display_data"
    }
   ],
   "source": [
    "data.frame(Metric,ARIMA,Naive,SE,Holt,Linear_Regression)"
   ]
  },
  {
   "cell_type": "markdown",
   "metadata": {},
   "source": [
    "# Box- Cox\n",
    "\n",
    "Apply the box-cox transformation to try to fix the normallity of the residuals"
   ]
  },
  {
   "cell_type": "code",
   "execution_count": 71,
   "metadata": {},
   "outputs": [
    {
     "data": {
      "text/html": [
       "0.294838072598635"
      ],
      "text/latex": [
       "0.294838072598635"
      ],
      "text/markdown": [
       "0.294838072598635"
      ],
      "text/plain": [
       "[1] 0.2948381"
      ]
     },
     "metadata": {},
     "output_type": "display_data"
    },
    {
     "data": {
      "image/png": "[encoded data removed]",
      "text/plain": [
       "plot without title"
      ]
     },
     "metadata": {},
     "output_type": "display_data"
    }
   ],
   "source": [
    "lambda <- BoxCox.lambda(train)\n",
    "lambda\n",
    "plot(BoxCox(train,lambda))"
   ]
  },
  {
   "cell_type": "code",
   "execution_count": 72,
   "metadata": {},
   "outputs": [],
   "source": [
    "# apply transformation to training data\n",
    "train <- BoxCox(train,lambda)\n"
   ]
  },
  {
   "cell_type": "markdown",
   "metadata": {},
   "source": [
    "# Auto arima"
   ]
  },
  {
   "cell_type": "code",
   "execution_count": 73,
   "metadata": {},
   "outputs": [
    {
     "name": "stdout",
     "output_type": "stream",
     "text": [
      "\n",
      " ARIMA(0,0,0) with zero mean     : 819.7313\n",
      " ARIMA(0,0,0) with non-zero mean : 190.8335\n",
      " ARIMA(0,0,1) with zero mean     : Inf\n",
      " ARIMA(0,0,1) with non-zero mean : 189.9319\n",
      " ARIMA(0,0,2) with zero mean     : 586.1343\n",
      " ARIMA(0,0,2) with non-zero mean : 191.5732\n",
      " ARIMA(0,0,3) with zero mean     : 513.6615\n",
      " ARIMA(0,0,3) with non-zero mean : 193.2423\n",
      " ARIMA(0,0,4) with zero mean     : 458.465\n",
      " ARIMA(0,0,4) with non-zero mean : 194.6341\n",
      " ARIMA(0,0,5) with zero mean     : 433.0337\n",
      " ARIMA(0,0,5) with non-zero mean : 194.7562\n",
      " ARIMA(1,0,0) with zero mean     : Inf\n",
      " ARIMA(1,0,0) with non-zero mean : 190.5808\n",
      " ARIMA(1,0,1) with zero mean     : Inf\n",
      " ARIMA(1,0,1) with non-zero mean : 191.8139\n",
      " ARIMA(1,0,2) with zero mean     : Inf\n",
      " ARIMA(1,0,2) with non-zero mean : 193.1593\n",
      " ARIMA(1,0,3) with zero mean     : Inf\n",
      " ARIMA(1,0,3) with non-zero mean : 195.3369\n",
      " ARIMA(1,0,4) with zero mean     : Inf\n",
      " ARIMA(1,0,4) with non-zero mean : 195.8367\n",
      " ARIMA(2,0,0) with zero mean     : Inf\n",
      " ARIMA(2,0,0) with non-zero mean : 191.0544\n",
      " ARIMA(2,0,1) with zero mean     : Inf\n",
      " ARIMA(2,0,1) with non-zero mean : 193.0664\n",
      " ARIMA(2,0,2) with zero mean     : Inf\n",
      " ARIMA(2,0,2) with non-zero mean : 190.5183\n",
      " ARIMA(2,0,3) with zero mean     : Inf\n",
      " ARIMA(2,0,3) with non-zero mean : 197.6928\n",
      " ARIMA(3,0,0) with zero mean     : Inf\n",
      " ARIMA(3,0,0) with non-zero mean : 192.8869\n",
      " ARIMA(3,0,1) with zero mean     : Inf\n",
      " ARIMA(3,0,1) with non-zero mean : 195.1022\n",
      " ARIMA(3,0,2) with zero mean     : Inf\n",
      " ARIMA(3,0,2) with non-zero mean : 192.8103\n",
      " ARIMA(4,0,0) with zero mean     : Inf\n",
      " ARIMA(4,0,0) with non-zero mean : 194.9538\n",
      " ARIMA(4,0,1) with zero mean     : Inf\n",
      " ARIMA(4,0,1) with non-zero mean : 197.1101\n",
      " ARIMA(5,0,0) with zero mean     : Inf\n",
      " ARIMA(5,0,0) with non-zero mean : 195.8838\n",
      "\n",
      "\n",
      "\n",
      " Best model: ARIMA(0,0,1) with non-zero mean \n",
      "\n",
      "Series: train \n",
      "ARIMA(0,0,1) with non-zero mean \n",
      "\n",
      "Coefficients:\n",
      "         ma1     mean\n",
      "      0.2086  11.4285\n",
      "s.e.  0.1142   0.0676\n",
      "\n",
      "sigma^2 estimated as 0.3375:  log likelihood=-91.85\n",
      "AIC=189.7   AICc=189.93   BIC=197.69\n",
      "\n",
      "Training set error measures:\n",
      "                      ME      RMSE       MAE       MPE     MAPE      MASE\n",
      "Training set 0.003841318 0.5754199 0.4054188 -0.227122 3.599264 0.7795436\n",
      "                    ACF1\n",
      "Training set -0.03767741\n"
     ]
    }
   ],
   "source": [
    "arima_model <- auto.arima(train,approximation=FALSE,trace=TRUE,stepwise=FALSE)#,max.p = 7,max.q = 5,max.d = 2)\n",
    "summary(arima_model)\n"
   ]
  },
  {
   "cell_type": "markdown",
   "metadata": {},
   "source": [
    "## Arima fit"
   ]
  },
  {
   "cell_type": "code",
   "execution_count": 74,
   "metadata": {},
   "outputs": [
    {
     "name": "stdout",
     "output_type": "stream",
     "text": [
      "\n",
      "Call:\n",
      "arima(x = train, order = c(0, 0, 1))\n",
      "\n",
      "Coefficients:\n",
      "         ma1  intercept\n",
      "      0.2086    11.4285\n",
      "s.e.  0.1142     0.0676\n",
      "\n",
      "sigma^2 estimated as 0.3311:  log likelihood = -91.85,  aic = 189.7\n"
     ]
    },
    {
     "name": "stderr",
     "output_type": "stream",
     "text": [
      "Warning message in eval(expr, envir, enclos):\n",
      "\"Incompatible methods (\"Ops.xts\", \"Ops.ts\") for \"-\"\""
     ]
    },
    {
     "data": {
      "image/png": "[encoded data removed]",
      "text/plain": [
       "plot without title"
      ]
     },
     "metadata": {},
     "output_type": "display_data"
    }
   ],
   "source": [
    "# Fit the AR model to time series\n",
    "AR <- arima(train,order=c(0,0,1))\n",
    "print(AR)\n",
    "\n",
    "# Run the following commands to plot the series and fitted values\n",
    "ts.plot(train)\n",
    "AR_fitted <- train - residuals(AR)\n",
    "points(AR_fitted, type = \"l\", col = 2, lty = 2)"
   ]
  },
  {
   "cell_type": "markdown",
   "metadata": {},
   "source": [
    "## residuals"
   ]
  },
  {
   "cell_type": "code",
   "execution_count": 75,
   "metadata": {},
   "outputs": [
    {
     "name": "stdout",
     "output_type": "stream",
     "text": [
      "\n",
      "\tLjung-Box test\n",
      "\n",
      "data:  Residuals from ARIMA(0,0,1) with non-zero mean\n",
      "Q* = 7.8438, df = 8, p-value = 0.4489\n",
      "\n",
      "Model df: 2.   Total lags used: 10\n",
      "\n"
     ]
    },
    {
     "data": {
      "image/png": "[encoded data removed]",
      "text/plain": [
       "plot without title"
      ]
     },
     "metadata": {},
     "output_type": "display_data"
    }
   ],
   "source": [
    "checkresiduals(AR)\n"
   ]
  },
  {
   "cell_type": "code",
   "execution_count": 76,
   "metadata": {},
   "outputs": [
    {
     "data": {
      "text/plain": [
       "\n",
       "\tShapiro-Wilk normality test\n",
       "\n",
       "data:  AR$residuals\n",
       "W = 0.93816, p-value = 9.316e-05\n"
      ]
     },
     "metadata": {},
     "output_type": "display_data"
    }
   ],
   "source": [
    "shapiro.test(AR$residuals)"
   ]
  },
  {
   "cell_type": "code",
   "execution_count": 77,
   "metadata": {},
   "outputs": [
    {
     "name": "stderr",
     "output_type": "stream",
     "text": [
      "Warning message in InvBoxCox(pred$pred, lambda, biasadj, pred$se^2):\n",
      "\"biasadj information not found, defaulting to FALSE.\""
     ]
    },
    {
     "data": {
      "text/html": [
       "0.215884937265749"
      ],
      "text/latex": [
       "0.215884937265749"
      ],
      "text/markdown": [
       "0.215884937265749"
      ],
      "text/plain": [
       "[1] 0.2158849"
      ]
     },
     "metadata": {},
     "output_type": "display_data"
    },
    {
     "data": {
      "text/html": [
       "1100.05308045317"
      ],
      "text/latex": [
       "1100.05308045317"
      ],
      "text/markdown": [
       "1100.05308045317"
      ],
      "text/plain": [
       "[1] 1100.053"
      ]
     },
     "metadata": {},
     "output_type": "display_data"
    }
   ],
   "source": [
    "#Forecasting Arima\n",
    "fore_arima <- forecast::forecast(AR, h=45,lambda=lambda)\n",
    "df_arima <- as.data.frame(fore_arima)\n",
    "test_df$arima <- df_arima$`Point Forecast`\n",
    "\n",
    "\n",
    "MAPE(test_df$arima,test_df$test)\n",
    "MSE(test_df$arima,test_df$test)"
   ]
  },
  {
   "cell_type": "markdown",
   "metadata": {},
   "source": [
    "The ACF plot of the residuals from the ARIMA(0,0,1) model shows that all autocorrelations are within the threshold limits, indicating that the residuals are behaving like white noise. A portmanteau test returns a p -value of 0.4879, which is larger than the significance level of 0.05  also suggesting that the residuals are white noise.\n",
    "\n",
    "Still obtain a small p-value suggesting that the residuals are not normally distributed. I will use the data without a box-cox transforamtion for the forecast"
   ]
  },
  {
   "cell_type": "markdown",
   "metadata": {},
   "source": [
    "# 7 day forecasts"
   ]
  },
  {
   "cell_type": "markdown",
   "metadata": {},
   "source": [
    "Fit the ARIMA model on the train + test and then forecast 7 days."
   ]
  },
  {
   "cell_type": "code",
   "execution_count": 78,
   "metadata": {},
   "outputs": [
    {
     "name": "stdout",
     "output_type": "stream",
     "text": [
      "\n",
      "Call:\n",
      "arima(x = time_series, order = c(0, 0, 1))\n",
      "\n",
      "Coefficients:\n",
      "         ma1  intercept\n",
      "      0.2547   148.8022\n",
      "s.e.  0.0832     2.0823\n",
      "\n",
      "sigma^2 estimated as 416.9:  log likelihood = -669.78,  aic = 1345.55\n"
     ]
    },
    {
     "name": "stderr",
     "output_type": "stream",
     "text": [
      "Warning message in eval(expr, envir, enclos):\n",
      "\"Incompatible methods (\"Ops.xts\", \"Ops.ts\") for \"-\"\""
     ]
    },
    {
     "data": {
      "image/png": "[encoded data removed]",
      "text/plain": [
       "plot without title"
      ]
     },
     "metadata": {},
     "output_type": "display_data"
    }
   ],
   "source": [
    "# Fit the AR model to time series\n",
    "AR <- arima(time_series,order=c(0,0,1))\n",
    "print(AR)\n",
    "\n",
    "# Run the following commands to plot the series and fitted values\n",
    "ts.plot(time_series)\n",
    "AR_fitted <- time_series - residuals(AR)\n",
    "points(AR_fitted, type = \"l\", col = 2, lty = 2)"
   ]
  },
  {
   "cell_type": "code",
   "execution_count": 79,
   "metadata": {},
   "outputs": [
    {
     "name": "stdout",
     "output_type": "stream",
     "text": [
      "\n",
      "\tLjung-Box test\n",
      "\n",
      "data:  Residuals from ARIMA(0,0,1) with non-zero mean\n",
      "Q* = 8.4671, df = 8, p-value = 0.3892\n",
      "\n",
      "Model df: 2.   Total lags used: 10\n",
      "\n"
     ]
    },
    {
     "data": {
      "image/png": "[encoded data removed]",
      "text/plain": [
       "plot without title"
      ]
     },
     "metadata": {},
     "output_type": "display_data"
    }
   ],
   "source": [
    "checkresiduals(AR)"
   ]
  },
  {
   "cell_type": "code",
   "execution_count": 80,
   "metadata": {},
   "outputs": [
    {
     "data": {
      "text/plain": [
       "\n",
       "\tShapiro-Wilk normality test\n",
       "\n",
       "data:  AR$residuals\n",
       "W = 0.93049, p-value = 9.99e-07\n"
      ]
     },
     "metadata": {},
     "output_type": "display_data"
    }
   ],
   "source": [
    "shapiro.test(AR$residuals)"
   ]
  },
  {
   "cell_type": "code",
   "execution_count": 81,
   "metadata": {},
   "outputs": [
    {
     "data": {
      "image/png": "[encoded data removed]",
      "text/plain": [
       "plot without title"
      ]
     },
     "metadata": {},
     "output_type": "display_data"
    }
   ],
   "source": [
    "for_AR <- forecast(AR,h=7)\n",
    "autoplot(for_AR)"
   ]
  },
  {
   "cell_type": "code",
   "execution_count": 82,
   "metadata": {},
   "outputs": [
    {
     "data": {
      "text/plain": [
       "    Point Forecast    Lo 80    Hi 80    Lo 95    Hi 95\n",
       "152       146.2590 120.0916 172.4265 106.2393 186.2787\n",
       "153       148.8022 121.7994 175.8050 107.5050 190.0995\n",
       "154       148.8022 121.7994 175.8050 107.5050 190.0995\n",
       "155       148.8022 121.7994 175.8050 107.5050 190.0995\n",
       "156       148.8022 121.7994 175.8050 107.5050 190.0995\n",
       "157       148.8022 121.7994 175.8050 107.5050 190.0995\n",
       "158       148.8022 121.7994 175.8050 107.5050 190.0995"
      ]
     },
     "metadata": {},
     "output_type": "display_data"
    }
   ],
   "source": [
    "forecast(AR,h=7)"
   ]
  }
 ],
 "metadata": {
  "kernelspec": {
   "display_name": "R",
   "language": "R",
   "name": "ir"
  },
  "language_info": {
   "codemirror_mode": "r",
   "file_extension": ".r",
   "mimetype": "text/x-r-source",
   "name": "R",
   "pygments_lexer": "r",
   "version": "3.6.1"
  }
 },
 "nbformat": 4,
 "nbformat_minor": 4
}
